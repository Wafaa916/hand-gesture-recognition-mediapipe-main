{
 "cells": [
  {
   "cell_type": "code",
   "execution_count": 1,
   "metadata": {
    "id": "igMyGnjE9hEp"
   },
   "outputs": [],
   "source": [
    "import csv\n",
    "\n",
    "import numpy as np\n",
    "import tensorflow as tf\n",
    "from sklearn.model_selection import train_test_split\n",
    "\n",
    "RANDOM_SEED = 42"
   ]
  },
  {
   "cell_type": "markdown",
   "metadata": {
    "id": "t2HDvhIu9hEr"
   },
   "source": [
    "# Specify each path"
   ]
  },
  {
   "cell_type": "code",
   "execution_count": 2,
   "metadata": {
    "id": "9NvZP2Zn9hEy"
   },
   "outputs": [],
   "source": [
    "dataset = 'model/keypoint_classifier/keypoint.csv'\n",
    "model_save_path = 'model/keypoint_classifier/keypoint_classifier.hdf5'\n",
    "tflite_save_path = 'model/keypoint_classifier/keypoint_classifier.tflite'"
   ]
  },
  {
   "cell_type": "markdown",
   "metadata": {
    "id": "s5oMH7x19hEz"
   },
   "source": [
    "# Set number of classes"
   ]
  },
  {
   "cell_type": "code",
   "execution_count": 3,
   "metadata": {
    "id": "du4kodXL9hEz"
   },
   "outputs": [],
   "source": [
    "NUM_CLASSES = 26"
   ]
  },
  {
   "cell_type": "markdown",
   "metadata": {
    "id": "XjnL0uso9hEz"
   },
   "source": [
    "# Dataset reading"
   ]
  },
  {
   "cell_type": "code",
   "execution_count": 4,
   "metadata": {
    "id": "QT5ZqtEz9hE0"
   },
   "outputs": [],
   "source": [
    "X_dataset = np.loadtxt(dataset, delimiter=',', dtype='float32', usecols=list(range(1, (21 * 2) + 1)))"
   ]
  },
  {
   "cell_type": "code",
   "execution_count": 5,
   "metadata": {
    "id": "QmoKFsp49hE0"
   },
   "outputs": [],
   "source": [
    "y_dataset = np.loadtxt(dataset, delimiter=',', dtype='int32', usecols=(0))"
   ]
  },
  {
   "cell_type": "code",
   "execution_count": 6,
   "metadata": {
    "id": "xQU7JTZ_9hE0"
   },
   "outputs": [],
   "source": [
    "X_train, X_test, y_train, y_test = train_test_split(X_dataset, y_dataset, train_size=0.75, random_state=RANDOM_SEED)"
   ]
  },
  {
   "cell_type": "markdown",
   "metadata": {
    "id": "mxK_lETT9hE0"
   },
   "source": [
    "# Model building"
   ]
  },
  {
   "cell_type": "code",
   "execution_count": 7,
   "metadata": {
    "id": "vHBmUf1t9hE1"
   },
   "outputs": [],
   "source": [
    "model = tf.keras.models.Sequential([\n",
    "    tf.keras.layers.Input((21 * 2, )),\n",
    "    tf.keras.layers.Dropout(0.2),\n",
    "    tf.keras.layers.Dense(units=128, activation='relu'),\n",
    "    tf.keras.layers.Dense(units=256, activation='relu'),\n",
    "    tf.keras.layers.Dense(units=512, activation='relu'),\n",
    "    tf.keras.layers.Dense(units=512, activation='relu'),\n",
    "    tf.keras.layers.Dropout(0.2),\n",
    "    tf.keras.layers.Dense(units=256, activation='relu'),\n",
    "    tf.keras.layers.Dense(units=128, activation='relu'),\n",
    "    tf.keras.layers.Dropout(0.4),\n",
    "    tf.keras.layers.Dense(10, activation='relu'),\n",
    "    tf.keras.layers.Dense(NUM_CLASSES, activation='softmax')\n",
    "])\n",
    "\n",
    "# model = tf.keras.Sequential([\n",
    "#     tf.keras.layers.Dense(units=63, input_shape=[63]),\n",
    "#     tf.keras.layers.Dropout(0.2),\n",
    "#     tf.keras.layers.Dense(units=128, activation='relu'),\n",
    "#     tf.keras.layers.Dense(units=256, activation='relu'),\n",
    "#     tf.keras.layers.Dense(units=512, activation='relu'),\n",
    "#     tf.keras.layers.Dense(units=512, activation='relu'),\n",
    "#     tf.keras.layers.Dropout(0.2),\n",
    "#     tf.keras.layers.Dense(units=256, activation='relu'),\n",
    "#     tf.keras.layers.Dense(units=128, activation='relu'),\n",
    "#     tf.keras.layers.Dropout(0.2),\n",
    "#     tf.keras.layers.Dense(units=64, activation='relu'),\n",
    "#     tf.keras.layers.Dense(units=24, activation='softmax')\n",
    "# ])\n",
    "\n",
    "# model.summary()"
   ]
  },
  {
   "cell_type": "code",
   "execution_count": 8,
   "metadata": {
    "colab": {
     "base_uri": "https://localhost:8080/"
    },
    "id": "ypqky9tc9hE1",
    "outputId": "5db082bb-30e3-4110-bf63-a1ee777ecd46"
   },
   "outputs": [
    {
     "name": "stdout",
     "output_type": "stream",
     "text": [
      "Model: \"sequential\"\n",
      "_________________________________________________________________\n",
      " Layer (type)                Output Shape              Param #   \n",
      "=================================================================\n",
      " dropout (Dropout)           (None, 42)                0         \n",
      "                                                                 \n",
      " dense (Dense)               (None, 128)               5504      \n",
      "                                                                 \n",
      " dense_1 (Dense)             (None, 256)               33024     \n",
      "                                                                 \n",
      " dense_2 (Dense)             (None, 512)               131584    \n",
      "                                                                 \n",
      " dense_3 (Dense)             (None, 512)               262656    \n",
      "                                                                 \n",
      " dropout_1 (Dropout)         (None, 512)               0         \n",
      "                                                                 \n",
      " dense_4 (Dense)             (None, 256)               131328    \n",
      "                                                                 \n",
      " dense_5 (Dense)             (None, 128)               32896     \n",
      "                                                                 \n",
      " dropout_2 (Dropout)         (None, 128)               0         \n",
      "                                                                 \n",
      " dense_6 (Dense)             (None, 10)                1290      \n",
      "                                                                 \n",
      " dense_7 (Dense)             (None, 26)                286       \n",
      "                                                                 \n",
      "=================================================================\n",
      "Total params: 598,568\n",
      "Trainable params: 598,568\n",
      "Non-trainable params: 0\n",
      "_________________________________________________________________\n"
     ]
    }
   ],
   "source": [
    "model.summary()  # tf.keras.utils.plot_model(model, show_shapes=True)"
   ]
  },
  {
   "cell_type": "code",
   "execution_count": 9,
   "metadata": {
    "id": "MbMjOflQ9hE1"
   },
   "outputs": [],
   "source": [
    "# Model checkpoint callback\n",
    "cp_callback = tf.keras.callbacks.ModelCheckpoint(\n",
    "    model_save_path, verbose=1, save_weights_only=False)\n",
    "# Callback for early stopping\n",
    "es_callback = tf.keras.callbacks.EarlyStopping(patience=20, verbose=1)"
   ]
  },
  {
   "cell_type": "code",
   "execution_count": 10,
   "metadata": {
    "id": "c3Dac0M_9hE2"
   },
   "outputs": [],
   "source": [
    "# Model compilation\n",
    "model.compile(\n",
    "    optimizer='adam',\n",
    "    loss='sparse_categorical_crossentropy',\n",
    "    metrics=['accuracy']\n",
    ")"
   ]
  },
  {
   "cell_type": "markdown",
   "metadata": {
    "id": "7XI0j1Iu9hE2"
   },
   "source": [
    "# Model training"
   ]
  },
  {
   "cell_type": "code",
   "execution_count": 11,
   "metadata": {
    "colab": {
     "base_uri": "https://localhost:8080/"
    },
    "id": "WirBl-JE9hE3",
    "outputId": "71b30ca2-8294-4d9d-8aa2-800d90d399de",
    "scrolled": true
   },
   "outputs": [
    {
     "name": "stdout",
     "output_type": "stream",
     "text": [
      "Epoch 1/1000\n",
      "440/443 [============================>.] - ETA: 0s - loss: 1.5764 - accuracy: 0.5122\n",
      "Epoch 1: saving model to model/keypoint_classifier\\keypoint_classifier.hdf5\n",
      "443/443 [==============================] - 10s 19ms/step - loss: 1.5709 - accuracy: 0.5138 - val_loss: 0.4888 - val_accuracy: 0.8387\n",
      "Epoch 2/1000\n",
      "441/443 [============================>.] - ETA: 0s - loss: 0.6375 - accuracy: 0.7973\n",
      "Epoch 2: saving model to model/keypoint_classifier\\keypoint_classifier.hdf5\n",
      "443/443 [==============================] - 8s 18ms/step - loss: 0.6368 - accuracy: 0.7975 - val_loss: 0.2907 - val_accuracy: 0.9235\n",
      "Epoch 3/1000\n",
      "442/443 [============================>.] - ETA: 0s - loss: 0.4512 - accuracy: 0.8652\n",
      "Epoch 3: saving model to model/keypoint_classifier\\keypoint_classifier.hdf5\n",
      "443/443 [==============================] - 8s 19ms/step - loss: 0.4511 - accuracy: 0.8652 - val_loss: 0.2560 - val_accuracy: 0.9237\n",
      "Epoch 4/1000\n",
      "440/443 [============================>.] - ETA: 0s - loss: 0.3782 - accuracy: 0.8882\n",
      "Epoch 4: saving model to model/keypoint_classifier\\keypoint_classifier.hdf5\n",
      "443/443 [==============================] - 8s 17ms/step - loss: 0.3779 - accuracy: 0.8882 - val_loss: 0.2607 - val_accuracy: 0.9158\n",
      "Epoch 5/1000\n",
      "441/443 [============================>.] - ETA: 0s - loss: 0.3406 - accuracy: 0.9003\n",
      "Epoch 5: saving model to model/keypoint_classifier\\keypoint_classifier.hdf5\n",
      "443/443 [==============================] - 8s 17ms/step - loss: 0.3408 - accuracy: 0.9003 - val_loss: 0.1891 - val_accuracy: 0.9459\n",
      "Epoch 6/1000\n",
      "442/443 [============================>.] - ETA: 0s - loss: 0.3183 - accuracy: 0.9057\n",
      "Epoch 6: saving model to model/keypoint_classifier\\keypoint_classifier.hdf5\n",
      "443/443 [==============================] - 8s 19ms/step - loss: 0.3183 - accuracy: 0.9057 - val_loss: 0.3692 - val_accuracy: 0.8845\n",
      "Epoch 7/1000\n",
      "442/443 [============================>.] - ETA: 0s - loss: 0.2945 - accuracy: 0.9134\n",
      "Epoch 7: saving model to model/keypoint_classifier\\keypoint_classifier.hdf5\n",
      "443/443 [==============================] - 8s 17ms/step - loss: 0.2946 - accuracy: 0.9134 - val_loss: 0.2147 - val_accuracy: 0.9349\n",
      "Epoch 8/1000\n",
      "443/443 [==============================] - ETA: 0s - loss: 0.2786 - accuracy: 0.9168\n",
      "Epoch 8: saving model to model/keypoint_classifier\\keypoint_classifier.hdf5\n",
      "443/443 [==============================] - 8s 18ms/step - loss: 0.2786 - accuracy: 0.9168 - val_loss: 0.2032 - val_accuracy: 0.9391\n",
      "Epoch 9/1000\n",
      "441/443 [============================>.] - ETA: 0s - loss: 0.2593 - accuracy: 0.9228\n",
      "Epoch 9: saving model to model/keypoint_classifier\\keypoint_classifier.hdf5\n",
      "443/443 [==============================] - 9s 20ms/step - loss: 0.2593 - accuracy: 0.9228 - val_loss: 0.1649 - val_accuracy: 0.9433\n",
      "Epoch 10/1000\n",
      "441/443 [============================>.] - ETA: 0s - loss: 0.2515 - accuracy: 0.9241\n",
      "Epoch 10: saving model to model/keypoint_classifier\\keypoint_classifier.hdf5\n",
      "443/443 [==============================] - 8s 18ms/step - loss: 0.2515 - accuracy: 0.9240 - val_loss: 0.2909 - val_accuracy: 0.8992\n",
      "Epoch 11/1000\n",
      "441/443 [============================>.] - ETA: 0s - loss: 0.2505 - accuracy: 0.9259\n",
      "Epoch 11: saving model to model/keypoint_classifier\\keypoint_classifier.hdf5\n",
      "443/443 [==============================] - 9s 19ms/step - loss: 0.2504 - accuracy: 0.9259 - val_loss: 0.1644 - val_accuracy: 0.9528\n",
      "Epoch 12/1000\n",
      "441/443 [============================>.] - ETA: 0s - loss: 0.2300 - accuracy: 0.9312\n",
      "Epoch 12: saving model to model/keypoint_classifier\\keypoint_classifier.hdf5\n",
      "443/443 [==============================] - 9s 19ms/step - loss: 0.2297 - accuracy: 0.9313 - val_loss: 0.1543 - val_accuracy: 0.9555\n",
      "Epoch 13/1000\n",
      "441/443 [============================>.] - ETA: 0s - loss: 0.2292 - accuracy: 0.9330\n",
      "Epoch 13: saving model to model/keypoint_classifier\\keypoint_classifier.hdf5\n",
      "443/443 [==============================] - 9s 20ms/step - loss: 0.2295 - accuracy: 0.9329 - val_loss: 0.1253 - val_accuracy: 0.9638\n",
      "Epoch 14/1000\n",
      "441/443 [============================>.] - ETA: 0s - loss: 0.2178 - accuracy: 0.9366\n",
      "Epoch 14: saving model to model/keypoint_classifier\\keypoint_classifier.hdf5\n",
      "443/443 [==============================] - 9s 20ms/step - loss: 0.2178 - accuracy: 0.9366 - val_loss: 0.1729 - val_accuracy: 0.9491\n",
      "Epoch 15/1000\n",
      "441/443 [============================>.] - ETA: 0s - loss: 0.2189 - accuracy: 0.9360\n",
      "Epoch 15: saving model to model/keypoint_classifier\\keypoint_classifier.hdf5\n",
      "443/443 [==============================] - 9s 19ms/step - loss: 0.2188 - accuracy: 0.9361 - val_loss: 0.1974 - val_accuracy: 0.9365\n",
      "Epoch 16/1000\n",
      "441/443 [============================>.] - ETA: 0s - loss: 0.2063 - accuracy: 0.9390\n",
      "Epoch 16: saving model to model/keypoint_classifier\\keypoint_classifier.hdf5\n",
      "443/443 [==============================] - 10s 21ms/step - loss: 0.2063 - accuracy: 0.9389 - val_loss: 0.1308 - val_accuracy: 0.9593\n",
      "Epoch 17/1000\n",
      "441/443 [============================>.] - ETA: 0s - loss: 0.2035 - accuracy: 0.9394\n",
      "Epoch 17: saving model to model/keypoint_classifier\\keypoint_classifier.hdf5\n",
      "443/443 [==============================] - 10s 22ms/step - loss: 0.2033 - accuracy: 0.9396 - val_loss: 0.1122 - val_accuracy: 0.9682\n",
      "Epoch 18/1000\n",
      "441/443 [============================>.] - ETA: 0s - loss: 0.2041 - accuracy: 0.9397\n",
      "Epoch 18: saving model to model/keypoint_classifier\\keypoint_classifier.hdf5\n",
      "443/443 [==============================] - 10s 22ms/step - loss: 0.2040 - accuracy: 0.9398 - val_loss: 0.1554 - val_accuracy: 0.9516\n",
      "Epoch 19/1000\n",
      "443/443 [==============================] - ETA: 0s - loss: 0.1928 - accuracy: 0.9424\n",
      "Epoch 19: saving model to model/keypoint_classifier\\keypoint_classifier.hdf5\n",
      "443/443 [==============================] - 10s 22ms/step - loss: 0.1928 - accuracy: 0.9424 - val_loss: 0.1801 - val_accuracy: 0.9382\n",
      "Epoch 20/1000\n",
      "442/443 [============================>.] - ETA: 0s - loss: 0.1898 - accuracy: 0.9432\n",
      "Epoch 20: saving model to model/keypoint_classifier\\keypoint_classifier.hdf5\n",
      "443/443 [==============================] - 9s 21ms/step - loss: 0.1897 - accuracy: 0.9432 - val_loss: 0.1411 - val_accuracy: 0.9571\n",
      "Epoch 21/1000\n",
      "443/443 [==============================] - ETA: 0s - loss: 0.1824 - accuracy: 0.9451\n",
      "Epoch 21: saving model to model/keypoint_classifier\\keypoint_classifier.hdf5\n",
      "443/443 [==============================] - 10s 22ms/step - loss: 0.1824 - accuracy: 0.9451 - val_loss: 0.1756 - val_accuracy: 0.9488\n",
      "Epoch 22/1000\n",
      "443/443 [==============================] - ETA: 0s - loss: 0.1815 - accuracy: 0.9456\n",
      "Epoch 22: saving model to model/keypoint_classifier\\keypoint_classifier.hdf5\n",
      "443/443 [==============================] - 11s 25ms/step - loss: 0.1815 - accuracy: 0.9456 - val_loss: 0.1458 - val_accuracy: 0.9565\n",
      "Epoch 23/1000\n",
      "442/443 [============================>.] - ETA: 0s - loss: 0.1776 - accuracy: 0.9477\n",
      "Epoch 23: saving model to model/keypoint_classifier\\keypoint_classifier.hdf5\n",
      "443/443 [==============================] - 10s 23ms/step - loss: 0.1775 - accuracy: 0.9477 - val_loss: 0.1936 - val_accuracy: 0.9454\n",
      "Epoch 24/1000\n",
      "443/443 [==============================] - ETA: 0s - loss: 0.1784 - accuracy: 0.9475\n",
      "Epoch 24: saving model to model/keypoint_classifier\\keypoint_classifier.hdf5\n",
      "443/443 [==============================] - 10s 22ms/step - loss: 0.1784 - accuracy: 0.9475 - val_loss: 0.1867 - val_accuracy: 0.9458\n",
      "Epoch 25/1000\n",
      "443/443 [==============================] - ETA: 0s - loss: 0.1713 - accuracy: 0.9492\n",
      "Epoch 25: saving model to model/keypoint_classifier\\keypoint_classifier.hdf5\n",
      "443/443 [==============================] - 10s 23ms/step - loss: 0.1713 - accuracy: 0.9492 - val_loss: 0.1560 - val_accuracy: 0.9523\n",
      "Epoch 26/1000\n",
      "441/443 [============================>.] - ETA: 0s - loss: 0.1662 - accuracy: 0.9494\n",
      "Epoch 26: saving model to model/keypoint_classifier\\keypoint_classifier.hdf5\n",
      "443/443 [==============================] - 11s 26ms/step - loss: 0.1666 - accuracy: 0.9493 - val_loss: 0.1340 - val_accuracy: 0.9597\n",
      "Epoch 27/1000\n",
      "443/443 [==============================] - ETA: 0s - loss: 0.1688 - accuracy: 0.9503\n",
      "Epoch 27: saving model to model/keypoint_classifier\\keypoint_classifier.hdf5\n",
      "443/443 [==============================] - 12s 28ms/step - loss: 0.1688 - accuracy: 0.9503 - val_loss: 0.1994 - val_accuracy: 0.9426\n"
     ]
    },
    {
     "name": "stdout",
     "output_type": "stream",
     "text": [
      "Epoch 28/1000\n",
      "442/443 [============================>.] - ETA: 0s - loss: 0.1604 - accuracy: 0.9526\n",
      "Epoch 28: saving model to model/keypoint_classifier\\keypoint_classifier.hdf5\n",
      "443/443 [==============================] - 14s 31ms/step - loss: 0.1603 - accuracy: 0.9527 - val_loss: 0.1240 - val_accuracy: 0.9621\n",
      "Epoch 29/1000\n",
      "442/443 [============================>.] - ETA: 0s - loss: 0.1603 - accuracy: 0.9522\n",
      "Epoch 29: saving model to model/keypoint_classifier\\keypoint_classifier.hdf5\n",
      "443/443 [==============================] - 11s 24ms/step - loss: 0.1607 - accuracy: 0.9521 - val_loss: 0.1179 - val_accuracy: 0.9658\n",
      "Epoch 30/1000\n",
      "442/443 [============================>.] - ETA: 0s - loss: 0.1573 - accuracy: 0.9524\n",
      "Epoch 30: saving model to model/keypoint_classifier\\keypoint_classifier.hdf5\n",
      "443/443 [==============================] - 10s 22ms/step - loss: 0.1575 - accuracy: 0.9524 - val_loss: 0.1128 - val_accuracy: 0.9690\n",
      "Epoch 31/1000\n",
      "442/443 [============================>.] - ETA: 0s - loss: 0.1590 - accuracy: 0.9515\n",
      "Epoch 31: saving model to model/keypoint_classifier\\keypoint_classifier.hdf5\n",
      "443/443 [==============================] - 10s 22ms/step - loss: 0.1591 - accuracy: 0.9515 - val_loss: 0.1257 - val_accuracy: 0.9633\n",
      "Epoch 32/1000\n",
      "442/443 [============================>.] - ETA: 0s - loss: 0.1561 - accuracy: 0.9521\n",
      "Epoch 32: saving model to model/keypoint_classifier\\keypoint_classifier.hdf5\n",
      "443/443 [==============================] - 10s 23ms/step - loss: 0.1561 - accuracy: 0.9522 - val_loss: 0.1256 - val_accuracy: 0.9644\n",
      "Epoch 33/1000\n",
      "442/443 [============================>.] - ETA: 0s - loss: 0.1533 - accuracy: 0.9544\n",
      "Epoch 33: saving model to model/keypoint_classifier\\keypoint_classifier.hdf5\n",
      "443/443 [==============================] - 11s 25ms/step - loss: 0.1535 - accuracy: 0.9544 - val_loss: 0.1012 - val_accuracy: 0.9721\n",
      "Epoch 34/1000\n",
      "441/443 [============================>.] - ETA: 0s - loss: 0.1530 - accuracy: 0.9540\n",
      "Epoch 34: saving model to model/keypoint_classifier\\keypoint_classifier.hdf5\n",
      "443/443 [==============================] - 10s 23ms/step - loss: 0.1530 - accuracy: 0.9541 - val_loss: 0.1568 - val_accuracy: 0.9530\n",
      "Epoch 35/1000\n",
      "443/443 [==============================] - ETA: 0s - loss: 0.1511 - accuracy: 0.9548\n",
      "Epoch 35: saving model to model/keypoint_classifier\\keypoint_classifier.hdf5\n",
      "443/443 [==============================] - 10s 24ms/step - loss: 0.1511 - accuracy: 0.9548 - val_loss: 0.1433 - val_accuracy: 0.9571\n",
      "Epoch 36/1000\n",
      "442/443 [============================>.] - ETA: 0s - loss: 0.1511 - accuracy: 0.9548\n",
      "Epoch 36: saving model to model/keypoint_classifier\\keypoint_classifier.hdf5\n",
      "443/443 [==============================] - 11s 25ms/step - loss: 0.1510 - accuracy: 0.9549 - val_loss: 0.1057 - val_accuracy: 0.9685\n",
      "Epoch 37/1000\n",
      "442/443 [============================>.] - ETA: 0s - loss: 0.1403 - accuracy: 0.9572\n",
      "Epoch 37: saving model to model/keypoint_classifier\\keypoint_classifier.hdf5\n",
      "443/443 [==============================] - 10s 22ms/step - loss: 0.1404 - accuracy: 0.9572 - val_loss: 0.0989 - val_accuracy: 0.9707\n",
      "Epoch 38/1000\n",
      "441/443 [============================>.] - ETA: 0s - loss: 0.1398 - accuracy: 0.9578\n",
      "Epoch 38: saving model to model/keypoint_classifier\\keypoint_classifier.hdf5\n",
      "443/443 [==============================] - 10s 23ms/step - loss: 0.1400 - accuracy: 0.9576 - val_loss: 0.1375 - val_accuracy: 0.9579\n",
      "Epoch 39/1000\n",
      "441/443 [============================>.] - ETA: 0s - loss: 0.1497 - accuracy: 0.9548\n",
      "Epoch 39: saving model to model/keypoint_classifier\\keypoint_classifier.hdf5\n",
      "443/443 [==============================] - 10s 23ms/step - loss: 0.1496 - accuracy: 0.9549 - val_loss: 0.1377 - val_accuracy: 0.9579\n",
      "Epoch 40/1000\n",
      "442/443 [============================>.] - ETA: 0s - loss: 0.1373 - accuracy: 0.9580\n",
      "Epoch 40: saving model to model/keypoint_classifier\\keypoint_classifier.hdf5\n",
      "443/443 [==============================] - 10s 23ms/step - loss: 0.1372 - accuracy: 0.9580 - val_loss: 0.1230 - val_accuracy: 0.9621\n",
      "Epoch 41/1000\n",
      "441/443 [============================>.] - ETA: 0s - loss: 0.1414 - accuracy: 0.9582\n",
      "Epoch 41: saving model to model/keypoint_classifier\\keypoint_classifier.hdf5\n",
      "443/443 [==============================] - 10s 22ms/step - loss: 0.1413 - accuracy: 0.9582 - val_loss: 0.1406 - val_accuracy: 0.9574\n",
      "Epoch 42/1000\n",
      "443/443 [==============================] - ETA: 0s - loss: 0.1383 - accuracy: 0.9586\n",
      "Epoch 42: saving model to model/keypoint_classifier\\keypoint_classifier.hdf5\n",
      "443/443 [==============================] - 10s 24ms/step - loss: 0.1383 - accuracy: 0.9586 - val_loss: 0.1303 - val_accuracy: 0.9610\n",
      "Epoch 43/1000\n",
      "442/443 [============================>.] - ETA: 0s - loss: 0.1314 - accuracy: 0.9603\n",
      "Epoch 43: saving model to model/keypoint_classifier\\keypoint_classifier.hdf5\n",
      "443/443 [==============================] - 11s 25ms/step - loss: 0.1312 - accuracy: 0.9603 - val_loss: 0.1597 - val_accuracy: 0.9516\n",
      "Epoch 44/1000\n",
      "441/443 [============================>.] - ETA: 0s - loss: 0.1374 - accuracy: 0.9597\n",
      "Epoch 44: saving model to model/keypoint_classifier\\keypoint_classifier.hdf5\n",
      "443/443 [==============================] - 12s 26ms/step - loss: 0.1372 - accuracy: 0.9597 - val_loss: 0.0980 - val_accuracy: 0.9730\n",
      "Epoch 45/1000\n",
      "443/443 [==============================] - ETA: 0s - loss: 0.1371 - accuracy: 0.9590\n",
      "Epoch 45: saving model to model/keypoint_classifier\\keypoint_classifier.hdf5\n",
      "443/443 [==============================] - 12s 27ms/step - loss: 0.1371 - accuracy: 0.9590 - val_loss: 0.1250 - val_accuracy: 0.9646\n",
      "Epoch 46/1000\n",
      "441/443 [============================>.] - ETA: 0s - loss: 0.1309 - accuracy: 0.9601\n",
      "Epoch 46: saving model to model/keypoint_classifier\\keypoint_classifier.hdf5\n",
      "443/443 [==============================] - 12s 27ms/step - loss: 0.1307 - accuracy: 0.9601 - val_loss: 0.1387 - val_accuracy: 0.9592\n",
      "Epoch 47/1000\n",
      "443/443 [==============================] - ETA: 0s - loss: 0.1339 - accuracy: 0.9602\n",
      "Epoch 47: saving model to model/keypoint_classifier\\keypoint_classifier.hdf5\n",
      "443/443 [==============================] - 11s 25ms/step - loss: 0.1339 - accuracy: 0.9602 - val_loss: 0.1453 - val_accuracy: 0.9556\n",
      "Epoch 48/1000\n",
      "442/443 [============================>.] - ETA: 0s - loss: 0.1314 - accuracy: 0.9605\n",
      "Epoch 48: saving model to model/keypoint_classifier\\keypoint_classifier.hdf5\n",
      "443/443 [==============================] - 11s 25ms/step - loss: 0.1314 - accuracy: 0.9604 - val_loss: 0.1436 - val_accuracy: 0.9553\n",
      "Epoch 49/1000\n",
      "442/443 [============================>.] - ETA: 0s - loss: 0.1286 - accuracy: 0.9607\n",
      "Epoch 49: saving model to model/keypoint_classifier\\keypoint_classifier.hdf5\n",
      "443/443 [==============================] - 11s 25ms/step - loss: 0.1286 - accuracy: 0.9607 - val_loss: 0.0935 - val_accuracy: 0.9738\n",
      "Epoch 50/1000\n",
      "441/443 [============================>.] - ETA: 0s - loss: 0.1250 - accuracy: 0.9612\n",
      "Epoch 50: saving model to model/keypoint_classifier\\keypoint_classifier.hdf5\n",
      "443/443 [==============================] - 12s 27ms/step - loss: 0.1248 - accuracy: 0.9613 - val_loss: 0.0923 - val_accuracy: 0.9742\n",
      "Epoch 51/1000\n",
      "443/443 [==============================] - ETA: 0s - loss: 0.1280 - accuracy: 0.9614\n",
      "Epoch 51: saving model to model/keypoint_classifier\\keypoint_classifier.hdf5\n",
      "443/443 [==============================] - 11s 25ms/step - loss: 0.1280 - accuracy: 0.9614 - val_loss: 0.1292 - val_accuracy: 0.9602\n",
      "Epoch 52/1000\n",
      "442/443 [============================>.] - ETA: 0s - loss: 0.1262 - accuracy: 0.9626\n",
      "Epoch 52: saving model to model/keypoint_classifier\\keypoint_classifier.hdf5\n",
      "443/443 [==============================] - 12s 26ms/step - loss: 0.1261 - accuracy: 0.9627 - val_loss: 0.1004 - val_accuracy: 0.9707\n",
      "Epoch 53/1000\n",
      "441/443 [============================>.] - ETA: 0s - loss: 0.1265 - accuracy: 0.9623\n",
      "Epoch 53: saving model to model/keypoint_classifier\\keypoint_classifier.hdf5\n",
      "443/443 [==============================] - 11s 26ms/step - loss: 0.1265 - accuracy: 0.9623 - val_loss: 0.1708 - val_accuracy: 0.9470\n",
      "Epoch 54/1000\n",
      "442/443 [============================>.] - ETA: 0s - loss: 0.1232 - accuracy: 0.9623\n",
      "Epoch 54: saving model to model/keypoint_classifier\\keypoint_classifier.hdf5\n"
     ]
    },
    {
     "name": "stdout",
     "output_type": "stream",
     "text": [
      "443/443 [==============================] - 12s 27ms/step - loss: 0.1231 - accuracy: 0.9623 - val_loss: 0.1352 - val_accuracy: 0.9581\n",
      "Epoch 55/1000\n",
      "443/443 [==============================] - ETA: 0s - loss: 0.1232 - accuracy: 0.9625\n",
      "Epoch 55: saving model to model/keypoint_classifier\\keypoint_classifier.hdf5\n",
      "443/443 [==============================] - 13s 29ms/step - loss: 0.1232 - accuracy: 0.9625 - val_loss: 0.0843 - val_accuracy: 0.9761\n",
      "Epoch 56/1000\n",
      "442/443 [============================>.] - ETA: 0s - loss: 0.1218 - accuracy: 0.9637\n",
      "Epoch 56: saving model to model/keypoint_classifier\\keypoint_classifier.hdf5\n",
      "443/443 [==============================] - 12s 28ms/step - loss: 0.1218 - accuracy: 0.9636 - val_loss: 0.1226 - val_accuracy: 0.9648\n",
      "Epoch 57/1000\n",
      "442/443 [============================>.] - ETA: 0s - loss: 0.1219 - accuracy: 0.9635\n",
      "Epoch 57: saving model to model/keypoint_classifier\\keypoint_classifier.hdf5\n",
      "443/443 [==============================] - 14s 31ms/step - loss: 0.1219 - accuracy: 0.9635 - val_loss: 0.1243 - val_accuracy: 0.9626\n",
      "Epoch 58/1000\n",
      "442/443 [============================>.] - ETA: 0s - loss: 0.1219 - accuracy: 0.9631\n",
      "Epoch 58: saving model to model/keypoint_classifier\\keypoint_classifier.hdf5\n",
      "443/443 [==============================] - 13s 30ms/step - loss: 0.1220 - accuracy: 0.9631 - val_loss: 0.1419 - val_accuracy: 0.9568\n",
      "Epoch 59/1000\n",
      "443/443 [==============================] - ETA: 0s - loss: 0.1148 - accuracy: 0.9649\n",
      "Epoch 59: saving model to model/keypoint_classifier\\keypoint_classifier.hdf5\n",
      "443/443 [==============================] - 14s 33ms/step - loss: 0.1148 - accuracy: 0.9649 - val_loss: 0.1815 - val_accuracy: 0.9451\n",
      "Epoch 60/1000\n",
      "442/443 [============================>.] - ETA: 0s - loss: 0.1184 - accuracy: 0.9640\n",
      "Epoch 60: saving model to model/keypoint_classifier\\keypoint_classifier.hdf5\n",
      "443/443 [==============================] - 17s 39ms/step - loss: 0.1184 - accuracy: 0.9640 - val_loss: 0.1082 - val_accuracy: 0.9703\n",
      "Epoch 61/1000\n",
      "443/443 [==============================] - ETA: 0s - loss: 0.1133 - accuracy: 0.9663\n",
      "Epoch 61: saving model to model/keypoint_classifier\\keypoint_classifier.hdf5\n",
      "443/443 [==============================] - 18s 41ms/step - loss: 0.1133 - accuracy: 0.9663 - val_loss: 0.0898 - val_accuracy: 0.9746\n",
      "Epoch 62/1000\n",
      "442/443 [============================>.] - ETA: 0s - loss: 0.1194 - accuracy: 0.9646\n",
      "Epoch 62: saving model to model/keypoint_classifier\\keypoint_classifier.hdf5\n",
      "443/443 [==============================] - 19s 44ms/step - loss: 0.1193 - accuracy: 0.9646 - val_loss: 0.1201 - val_accuracy: 0.9641\n",
      "Epoch 63/1000\n",
      "443/443 [==============================] - ETA: 0s - loss: 0.1112 - accuracy: 0.9662\n",
      "Epoch 63: saving model to model/keypoint_classifier\\keypoint_classifier.hdf5\n",
      "443/443 [==============================] - 22s 49ms/step - loss: 0.1112 - accuracy: 0.9662 - val_loss: 0.1797 - val_accuracy: 0.9451\n",
      "Epoch 64/1000\n",
      "442/443 [============================>.] - ETA: 0s - loss: 0.1162 - accuracy: 0.9648\n",
      "Epoch 64: saving model to model/keypoint_classifier\\keypoint_classifier.hdf5\n",
      "443/443 [==============================] - 22s 50ms/step - loss: 0.1163 - accuracy: 0.9648 - val_loss: 0.1561 - val_accuracy: 0.9588\n",
      "Epoch 65/1000\n",
      "443/443 [==============================] - ETA: 0s - loss: 0.1120 - accuracy: 0.9652\n",
      "Epoch 65: saving model to model/keypoint_classifier\\keypoint_classifier.hdf5\n",
      "443/443 [==============================] - 20s 44ms/step - loss: 0.1120 - accuracy: 0.9652 - val_loss: 0.1255 - val_accuracy: 0.9632\n",
      "Epoch 66/1000\n",
      "443/443 [==============================] - ETA: 0s - loss: 0.1115 - accuracy: 0.9662\n",
      "Epoch 66: saving model to model/keypoint_classifier\\keypoint_classifier.hdf5\n",
      "443/443 [==============================] - 19s 43ms/step - loss: 0.1115 - accuracy: 0.9662 - val_loss: 0.1348 - val_accuracy: 0.9589\n",
      "Epoch 67/1000\n",
      "442/443 [============================>.] - ETA: 0s - loss: 0.1118 - accuracy: 0.9661\n",
      "Epoch 67: saving model to model/keypoint_classifier\\keypoint_classifier.hdf5\n",
      "443/443 [==============================] - 17s 39ms/step - loss: 0.1117 - accuracy: 0.9661 - val_loss: 0.0775 - val_accuracy: 0.9785\n",
      "Epoch 68/1000\n",
      "442/443 [============================>.] - ETA: 0s - loss: 0.1126 - accuracy: 0.9664\n",
      "Epoch 68: saving model to model/keypoint_classifier\\keypoint_classifier.hdf5\n",
      "443/443 [==============================] - 17s 38ms/step - loss: 0.1126 - accuracy: 0.9664 - val_loss: 0.1297 - val_accuracy: 0.9613\n",
      "Epoch 69/1000\n",
      "442/443 [============================>.] - ETA: 0s - loss: 0.1103 - accuracy: 0.9670\n",
      "Epoch 69: saving model to model/keypoint_classifier\\keypoint_classifier.hdf5\n",
      "443/443 [==============================] - 16s 36ms/step - loss: 0.1103 - accuracy: 0.9670 - val_loss: 0.1419 - val_accuracy: 0.9596\n",
      "Epoch 70/1000\n",
      "442/443 [============================>.] - ETA: 0s - loss: 0.1103 - accuracy: 0.9665\n",
      "Epoch 70: saving model to model/keypoint_classifier\\keypoint_classifier.hdf5\n",
      "443/443 [==============================] - 15s 34ms/step - loss: 0.1103 - accuracy: 0.9665 - val_loss: 0.2807 - val_accuracy: 0.9223\n",
      "Epoch 71/1000\n",
      "442/443 [============================>.] - ETA: 0s - loss: 0.1107 - accuracy: 0.9668\n",
      "Epoch 71: saving model to model/keypoint_classifier\\keypoint_classifier.hdf5\n",
      "443/443 [==============================] - 15s 33ms/step - loss: 0.1107 - accuracy: 0.9668 - val_loss: 0.0834 - val_accuracy: 0.9762\n",
      "Epoch 72/1000\n",
      "443/443 [==============================] - ETA: 0s - loss: 0.1087 - accuracy: 0.9681\n",
      "Epoch 72: saving model to model/keypoint_classifier\\keypoint_classifier.hdf5\n",
      "443/443 [==============================] - 14s 32ms/step - loss: 0.1087 - accuracy: 0.9681 - val_loss: 0.2146 - val_accuracy: 0.9361\n",
      "Epoch 73/1000\n",
      "443/443 [==============================] - ETA: 0s - loss: 0.1108 - accuracy: 0.9663\n",
      "Epoch 73: saving model to model/keypoint_classifier\\keypoint_classifier.hdf5\n",
      "443/443 [==============================] - 14s 31ms/step - loss: 0.1108 - accuracy: 0.9663 - val_loss: 0.1678 - val_accuracy: 0.9535\n",
      "Epoch 74/1000\n",
      "442/443 [============================>.] - ETA: 0s - loss: 0.1074 - accuracy: 0.9674\n",
      "Epoch 74: saving model to model/keypoint_classifier\\keypoint_classifier.hdf5\n",
      "443/443 [==============================] - 14s 31ms/step - loss: 0.1074 - accuracy: 0.9674 - val_loss: 0.0930 - val_accuracy: 0.9745\n",
      "Epoch 75/1000\n",
      "442/443 [============================>.] - ETA: 0s - loss: 0.1078 - accuracy: 0.9669\n",
      "Epoch 75: saving model to model/keypoint_classifier\\keypoint_classifier.hdf5\n",
      "443/443 [==============================] - 14s 31ms/step - loss: 0.1077 - accuracy: 0.9669 - val_loss: 0.1366 - val_accuracy: 0.9633\n",
      "Epoch 76/1000\n",
      "443/443 [==============================] - ETA: 0s - loss: 0.1060 - accuracy: 0.9676\n",
      "Epoch 76: saving model to model/keypoint_classifier\\keypoint_classifier.hdf5\n",
      "443/443 [==============================] - 14s 32ms/step - loss: 0.1060 - accuracy: 0.9676 - val_loss: 0.1667 - val_accuracy: 0.9579\n",
      "Epoch 77/1000\n",
      "443/443 [==============================] - ETA: 0s - loss: 0.1063 - accuracy: 0.9678\n",
      "Epoch 77: saving model to model/keypoint_classifier\\keypoint_classifier.hdf5\n",
      "443/443 [==============================] - 14s 33ms/step - loss: 0.1063 - accuracy: 0.9678 - val_loss: 0.1478 - val_accuracy: 0.9542\n",
      "Epoch 78/1000\n",
      "443/443 [==============================] - ETA: 0s - loss: 0.1099 - accuracy: 0.9677\n",
      "Epoch 78: saving model to model/keypoint_classifier\\keypoint_classifier.hdf5\n",
      "443/443 [==============================] - 15s 34ms/step - loss: 0.1099 - accuracy: 0.9677 - val_loss: 0.1128 - val_accuracy: 0.9630\n",
      "Epoch 79/1000\n",
      "443/443 [==============================] - ETA: 0s - loss: 0.1044 - accuracy: 0.9684\n",
      "Epoch 79: saving model to model/keypoint_classifier\\keypoint_classifier.hdf5\n",
      "443/443 [==============================] - 16s 36ms/step - loss: 0.1044 - accuracy: 0.9684 - val_loss: 0.0843 - val_accuracy: 0.9767\n",
      "Epoch 80/1000\n",
      "442/443 [============================>.] - ETA: 0s - loss: 0.1048 - accuracy: 0.9682\n",
      "Epoch 80: saving model to model/keypoint_classifier\\keypoint_classifier.hdf5\n",
      "443/443 [==============================] - 17s 38ms/step - loss: 0.1048 - accuracy: 0.9682 - val_loss: 0.2056 - val_accuracy: 0.9377\n",
      "Epoch 81/1000\n"
     ]
    },
    {
     "name": "stdout",
     "output_type": "stream",
     "text": [
      "442/443 [============================>.] - ETA: 0s - loss: 0.1055 - accuracy: 0.9676\n",
      "Epoch 81: saving model to model/keypoint_classifier\\keypoint_classifier.hdf5\n",
      "443/443 [==============================] - 18s 42ms/step - loss: 0.1056 - accuracy: 0.9676 - val_loss: 0.1268 - val_accuracy: 0.9612\n",
      "Epoch 82/1000\n",
      "443/443 [==============================] - ETA: 0s - loss: 0.1019 - accuracy: 0.9685\n",
      "Epoch 82: saving model to model/keypoint_classifier\\keypoint_classifier.hdf5\n",
      "443/443 [==============================] - 23s 51ms/step - loss: 0.1019 - accuracy: 0.9685 - val_loss: 0.1841 - val_accuracy: 0.9450\n",
      "Epoch 83/1000\n",
      "442/443 [============================>.] - ETA: 0s - loss: 0.1049 - accuracy: 0.9678\n",
      "Epoch 83: saving model to model/keypoint_classifier\\keypoint_classifier.hdf5\n",
      "443/443 [==============================] - 21s 47ms/step - loss: 0.1049 - accuracy: 0.9678 - val_loss: 0.0890 - val_accuracy: 0.9725\n",
      "Epoch 84/1000\n",
      "443/443 [==============================] - ETA: 0s - loss: 0.1030 - accuracy: 0.9684\n",
      "Epoch 84: saving model to model/keypoint_classifier\\keypoint_classifier.hdf5\n",
      "443/443 [==============================] - 20s 44ms/step - loss: 0.1030 - accuracy: 0.9684 - val_loss: 0.1254 - val_accuracy: 0.9662\n",
      "Epoch 85/1000\n",
      "441/443 [============================>.] - ETA: 0s - loss: 0.1034 - accuracy: 0.9692\n",
      "Epoch 85: saving model to model/keypoint_classifier\\keypoint_classifier.hdf5\n",
      "443/443 [==============================] - 18s 40ms/step - loss: 0.1035 - accuracy: 0.9692 - val_loss: 0.1020 - val_accuracy: 0.9708\n",
      "Epoch 86/1000\n",
      "442/443 [============================>.] - ETA: 0s - loss: 0.0964 - accuracy: 0.9712\n",
      "Epoch 86: saving model to model/keypoint_classifier\\keypoint_classifier.hdf5\n",
      "443/443 [==============================] - 15s 33ms/step - loss: 0.0964 - accuracy: 0.9712 - val_loss: 0.1101 - val_accuracy: 0.9690\n",
      "Epoch 87/1000\n",
      "442/443 [============================>.] - ETA: 0s - loss: 0.1063 - accuracy: 0.9682\n",
      "Epoch 87: saving model to model/keypoint_classifier\\keypoint_classifier.hdf5\n",
      "443/443 [==============================] - 14s 32ms/step - loss: 0.1063 - accuracy: 0.9681 - val_loss: 0.0997 - val_accuracy: 0.9707\n",
      "Epoch 87: early stopping\n"
     ]
    },
    {
     "data": {
      "text/plain": [
       "<keras.callbacks.History at 0x138130131f0>"
      ]
     },
     "execution_count": 11,
     "metadata": {},
     "output_type": "execute_result"
    }
   ],
   "source": [
    "model.fit(\n",
    "    X_train,\n",
    "    y_train,\n",
    "    epochs=1000,\n",
    "    batch_size=128,\n",
    "    validation_data=(X_test, y_test),\n",
    "    callbacks=[cp_callback, es_callback]\n",
    ")"
   ]
  },
  {
   "cell_type": "code",
   "execution_count": 12,
   "metadata": {
    "colab": {
     "base_uri": "https://localhost:8080/"
    },
    "id": "pxvb2Y299hE3",
    "outputId": "59eb3185-2e37-4b9e-bc9d-ab1b8ac29b7f"
   },
   "outputs": [
    {
     "name": "stdout",
     "output_type": "stream",
     "text": [
      "148/148 [==============================] - 1s 8ms/step - loss: 0.0997 - accuracy: 0.9707\n"
     ]
    }
   ],
   "source": [
    "# Model evaluation\n",
    "val_loss, val_acc = model.evaluate(X_test, y_test, batch_size=128)"
   ]
  },
  {
   "cell_type": "code",
   "execution_count": 13,
   "metadata": {
    "id": "RBkmDeUW9hE4"
   },
   "outputs": [],
   "source": [
    "# Loading the saved model\n",
    "model = tf.keras.models.load_model(model_save_path)"
   ]
  },
  {
   "cell_type": "code",
   "execution_count": 14,
   "metadata": {
    "colab": {
     "base_uri": "https://localhost:8080/"
    },
    "id": "tFz9Tb0I9hE4",
    "outputId": "1c3b3528-54ae-4ee2-ab04-77429211cbef"
   },
   "outputs": [
    {
     "name": "stdout",
     "output_type": "stream",
     "text": [
      "1/1 [==============================] - 0s 244ms/step\n",
      "[3.4761797e-20 1.2645896e-23 1.9309400e-24 9.2413648e-29 6.0591600e-20\n",
      " 1.6693855e-27 6.0857545e-27 1.2240656e-23 4.4999742e-18 7.5089166e-19\n",
      " 1.4969837e-24 1.5245961e-14 9.4989554e-07 9.9999905e-01 6.0167564e-35\n",
      " 5.0467368e-17 1.2627822e-15 9.0548609e-33 6.9205865e-23 2.0398773e-15\n",
      " 2.7868931e-24 2.1049734e-13 1.9851917e-19 1.7302316e-22 2.3192133e-14\n",
      " 2.2722009e-10]\n",
      "13\n"
     ]
    }
   ],
   "source": [
    "# Inference test\n",
    "predict_result = model.predict(np.array([X_test[0]]))\n",
    "print(np.squeeze(predict_result))\n",
    "print(np.argmax(np.squeeze(predict_result)))"
   ]
  },
  {
   "cell_type": "markdown",
   "metadata": {
    "id": "S3U4yNWx9hE4"
   },
   "source": [
    "# Confusion matrix"
   ]
  },
  {
   "cell_type": "code",
   "execution_count": 15,
   "metadata": {
    "colab": {
     "base_uri": "https://localhost:8080/",
     "height": 582
    },
    "id": "AP1V6SCk9hE5",
    "outputId": "08e41a80-7a4a-4619-8125-ecc371368d19"
   },
   "outputs": [
    {
     "name": "stdout",
     "output_type": "stream",
     "text": [
      "591/591 [==============================] - 3s 5ms/step\n"
     ]
    },
    {
     "data": {
      "image/png": "[encoded data removed]",
      "text/plain": [
       "<Figure size 700x600 with 2 Axes>"
      ]
     },
     "metadata": {},
     "output_type": "display_data"
    },
    {
     "name": "stdout",
     "output_type": "stream",
     "text": [
      "Classification Report\n",
      "              precision    recall  f1-score   support\n",
      "\n",
      "           0       0.99      0.98      0.99       735\n",
      "           1       0.98      1.00      0.99       723\n",
      "           2       0.99      0.98      0.98       753\n",
      "           3       0.95      0.99      0.97       771\n",
      "           4       0.99      0.99      0.99       927\n",
      "           5       0.98      0.99      0.99       746\n",
      "           6       0.99      0.99      0.99       801\n",
      "           7       0.97      0.99      0.98       764\n",
      "           8       0.97      0.98      0.98       703\n",
      "           9       0.98      0.98      0.98       744\n",
      "          10       0.99      0.97      0.98       752\n",
      "          11       0.99      0.99      0.99       760\n",
      "          12       0.91      0.73      0.81       541\n",
      "          13       0.76      0.92      0.83       517\n",
      "          14       0.98      0.98      0.98       687\n",
      "          15       0.99      0.98      0.99       721\n",
      "          16       0.99      1.00      0.99       652\n",
      "          17       0.97      0.99      0.98       730\n",
      "          18       0.99      0.95      0.97       696\n",
      "          19       0.98      0.96      0.97       663\n",
      "          20       0.90      0.98      0.94       711\n",
      "          21       0.97      0.92      0.94       728\n",
      "          22       1.00      0.98      0.99       796\n",
      "          23       0.98      0.96      0.97       735\n",
      "          24       1.00      0.98      0.99       722\n",
      "          25       0.99      0.99      0.99       817\n",
      "\n",
      "    accuracy                           0.97     18895\n",
      "   macro avg       0.97      0.97      0.97     18895\n",
      "weighted avg       0.97      0.97      0.97     18895\n",
      "\n"
     ]
    }
   ],
   "source": [
    "import pandas as pd\n",
    "import seaborn as sns\n",
    "import matplotlib.pyplot as plt\n",
    "from sklearn.metrics import confusion_matrix, classification_report\n",
    "\n",
    "def print_confusion_matrix(y_true, y_pred, report=True):\n",
    "    labels = sorted(list(set(y_true)))\n",
    "    cmx_data = confusion_matrix(y_true, y_pred, labels=labels)\n",
    "    \n",
    "    df_cmx = pd.DataFrame(cmx_data, index=labels, columns=labels)\n",
    " \n",
    "    fig, ax = plt.subplots(figsize=(7, 6))\n",
    "    sns.heatmap(df_cmx, annot=True, fmt='g' ,square=False)\n",
    "    ax.set_ylim(len(set(y_true)), 0)\n",
    "    plt.show()\n",
    "    \n",
    "    if report:\n",
    "        print('Classification Report')\n",
    "        print(classification_report(y_test, y_pred))\n",
    "\n",
    "Y_pred = model.predict(X_test)\n",
    "y_pred = np.argmax(Y_pred, axis=1)\n",
    "\n",
    "print_confusion_matrix(y_test, y_pred)"
   ]
  },
  {
   "cell_type": "markdown",
   "metadata": {
    "id": "FNP6aqzc9hE5"
   },
   "source": [
    "# Convert to model for Tensorflow-Lite"
   ]
  },
  {
   "cell_type": "code",
   "execution_count": 16,
   "metadata": {
    "id": "ODjnYyld9hE6"
   },
   "outputs": [],
   "source": [
    "# Save as a model dedicated to inference\n",
    "model.save(model_save_path, include_optimizer=False)"
   ]
  },
  {
   "cell_type": "code",
   "execution_count": 17,
   "metadata": {
    "colab": {
     "base_uri": "https://localhost:8080/"
    },
    "id": "zRfuK8Y59hE6",
    "outputId": "a4ca585c-b5d5-4244-8291-8674063209bb"
   },
   "outputs": [
    {
     "name": "stderr",
     "output_type": "stream",
     "text": [
      "WARNING:absl:Found untraced functions such as _update_step_xla while saving (showing 1 of 1). These functions will not be directly callable after loading.\n"
     ]
    },
    {
     "name": "stdout",
     "output_type": "stream",
     "text": [
      "INFO:tensorflow:Assets written to: C:\\Users\\MOHAME~1\\AppData\\Local\\Temp\\tmpitak05mo\\assets\n"
     ]
    },
    {
     "name": "stderr",
     "output_type": "stream",
     "text": [
      "INFO:tensorflow:Assets written to: C:\\Users\\MOHAME~1\\AppData\\Local\\Temp\\tmpitak05mo\\assets\n"
     ]
    },
    {
     "data": {
      "text/plain": [
       "609224"
      ]
     },
     "execution_count": 17,
     "metadata": {},
     "output_type": "execute_result"
    }
   ],
   "source": [
    "# Transform model (quantization)\n",
    "\n",
    "converter = tf.lite.TFLiteConverter.from_keras_model(model)\n",
    "converter.optimizations = [tf.lite.Optimize.DEFAULT]\n",
    "tflite_quantized_model = converter.convert()\n",
    "\n",
    "open(tflite_save_path, 'wb').write(tflite_quantized_model)"
   ]
  },
  {
   "cell_type": "markdown",
   "metadata": {
    "id": "CHBPBXdx9hE6"
   },
   "source": [
    "# Inference test"
   ]
  },
  {
   "cell_type": "code",
   "execution_count": 18,
   "metadata": {
    "id": "mGAzLocO9hE7"
   },
   "outputs": [],
   "source": [
    "interpreter = tf.lite.Interpreter(model_path=tflite_save_path)\n",
    "interpreter.allocate_tensors()"
   ]
  },
  {
   "cell_type": "code",
   "execution_count": 19,
   "metadata": {
    "id": "oQuDK8YS9hE7"
   },
   "outputs": [],
   "source": [
    "# Get I / O tensor\n",
    "input_details = interpreter.get_input_details()\n",
    "output_details = interpreter.get_output_details()"
   ]
  },
  {
   "cell_type": "code",
   "execution_count": 20,
   "metadata": {
    "id": "2_ixAf_l9hE7"
   },
   "outputs": [],
   "source": [
    "interpreter.set_tensor(input_details[0]['index'], np.array([X_test[0]]))"
   ]
  },
  {
   "cell_type": "code",
   "execution_count": 21,
   "metadata": {
    "colab": {
     "base_uri": "https://localhost:8080/"
    },
    "id": "s4FoAnuc9hE7",
    "outputId": "91f18257-8d8b-4ef3-c558-e9b5f94fabbf",
    "scrolled": true
   },
   "outputs": [
    {
     "name": "stdout",
     "output_type": "stream",
     "text": [
      "CPU times: total: 0 ns\n",
      "Wall time: 209 ms\n"
     ]
    }
   ],
   "source": [
    "%%time\n",
    "# Inference implementation\n",
    "interpreter.invoke()\n",
    "tflite_results = interpreter.get_tensor(output_details[0]['index'])"
   ]
  },
  {
   "cell_type": "code",
   "execution_count": 22,
   "metadata": {
    "colab": {
     "base_uri": "https://localhost:8080/"
    },
    "id": "vONjp19J9hE8",
    "outputId": "77205e24-fd00-42c4-f7b6-e06e527c2cba"
   },
   "outputs": [
    {
     "name": "stdout",
     "output_type": "stream",
     "text": [
      "[4.02432496e-21 3.34566880e-25 3.92274829e-26 2.62287509e-30\n",
      " 5.61101570e-21 4.26123195e-29 1.36846663e-28 3.64374803e-25\n",
      " 6.93175337e-19 1.08446067e-19 6.14306879e-26 2.56583347e-15\n",
      " 3.92807152e-07 9.99999642e-01 7.10349132e-37 5.80488222e-18\n",
      " 1.64149691e-16 1.37876407e-34 6.50022293e-24 4.78934610e-16\n",
      " 1.33470458e-25 3.98494951e-14 1.18488324e-20 1.25876665e-23\n",
      " 5.04639868e-15 7.87444970e-11]\n",
      "13\n"
     ]
    }
   ],
   "source": [
    "print(np.squeeze(tflite_results))\n",
    "print(np.argmax(np.squeeze(tflite_results)))"
   ]
  }
 ],
 "metadata": {
  "accelerator": "GPU",
  "colab": {
   "collapsed_sections": [],
   "name": "keypoint_classification_EN.ipynb",
   "provenance": [],
   "toc_visible": true
  },
  "kernelspec": {
   "display_name": "Python 3 (ipykernel)",
   "language": "python",
   "name": "python3"
  },
  "language_info": {
   "codemirror_mode": {
    "name": "ipython",
    "version": 3
   },
   "file_extension": ".py",
   "mimetype": "text/x-python",
   "name": "python",
   "nbconvert_exporter": "python",
   "pygments_lexer": "ipython3",
   "version": "3.10.8"
  }
 },
 "nbformat": 4,
 "nbformat_minor": 1
}
