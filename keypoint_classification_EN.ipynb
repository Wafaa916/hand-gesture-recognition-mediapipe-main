{
 "cells": [
  {
   "cell_type": "code",
   "execution_count": 1,
   "metadata": {
    "id": "igMyGnjE9hEp"
   },
   "outputs": [],
   "source": [
    "import csv\n",
    "\n",
    "import numpy as np\n",
    "import tensorflow as tf\n",
    "from sklearn.model_selection import train_test_split\n",
    "\n",
    "RANDOM_SEED = 42"
   ]
  },
  {
   "cell_type": "markdown",
   "metadata": {
    "id": "t2HDvhIu9hEr"
   },
   "source": [
    "# Specify each path"
   ]
  },
  {
   "cell_type": "code",
   "execution_count": 2,
   "metadata": {
    "id": "9NvZP2Zn9hEy"
   },
   "outputs": [],
   "source": [
    "dataset = 'model/keypoint_classifier/keypoint.csv'\n",
    "model_save_path = 'model/keypoint_classifier/keypoint_classifier.hdf5'\n",
    "tflite_save_path = 'model/keypoint_classifier/keypoint_classifier.tflite'"
   ]
  },
  {
   "cell_type": "markdown",
   "metadata": {
    "id": "s5oMH7x19hEz"
   },
   "source": [
    "# Set number of classes"
   ]
  },
  {
   "cell_type": "code",
   "execution_count": 3,
   "metadata": {
    "id": "du4kodXL9hEz"
   },
   "outputs": [],
   "source": [
    "NUM_CLASSES = 26"
   ]
  },
  {
   "cell_type": "markdown",
   "metadata": {
    "id": "XjnL0uso9hEz"
   },
   "source": [
    "# Dataset reading"
   ]
  },
  {
   "cell_type": "code",
   "execution_count": 4,
   "metadata": {
    "id": "QT5ZqtEz9hE0"
   },
   "outputs": [],
   "source": [
    "X_dataset = np.loadtxt(dataset, delimiter=',', dtype='float32', usecols=list(range(1, (21 * 2) + 1)))"
   ]
  },
  {
   "cell_type": "code",
   "execution_count": 5,
   "metadata": {
    "id": "QmoKFsp49hE0"
   },
   "outputs": [],
   "source": [
    "y_dataset = np.loadtxt(dataset, delimiter=',', dtype='int32', usecols=(0))"
   ]
  },
  {
   "cell_type": "code",
   "execution_count": 6,
   "metadata": {
    "id": "xQU7JTZ_9hE0"
   },
   "outputs": [],
   "source": [
    "X_train, X_test, y_train, y_test = train_test_split(X_dataset, y_dataset, train_size=0.75, random_state=RANDOM_SEED)"
   ]
  },
  {
   "cell_type": "markdown",
   "metadata": {
    "id": "mxK_lETT9hE0"
   },
   "source": [
    "# Model building"
   ]
  },
  {
   "cell_type": "code",
   "execution_count": 7,
   "metadata": {
    "id": "vHBmUf1t9hE1"
   },
   "outputs": [],
   "source": [
    "model = tf.keras.models.Sequential([\n",
    "    tf.keras.layers.Input((21 * 2, )),\n",
    "    tf.keras.layers.Dropout(0.2),\n",
    "    tf.keras.layers.Dense(20, activation='relu'),\n",
    "    tf.keras.layers.Dropout(0.4),\n",
    "    tf.keras.layers.Dense(10, activation='relu'),\n",
    "    tf.keras.layers.Dense(NUM_CLASSES, activation='softmax')\n",
    "])"
   ]
  },
  {
   "cell_type": "code",
   "execution_count": 8,
   "metadata": {
    "colab": {
     "base_uri": "https://localhost:8080/"
    },
    "id": "ypqky9tc9hE1",
    "outputId": "5db082bb-30e3-4110-bf63-a1ee777ecd46"
   },
   "outputs": [
    {
     "name": "stdout",
     "output_type": "stream",
     "text": [
      "Model: \"sequential\"\n",
      "_________________________________________________________________\n",
      " Layer (type)                Output Shape              Param #   \n",
      "=================================================================\n",
      " dropout (Dropout)           (None, 42)                0         \n",
      "                                                                 \n",
      " dense (Dense)               (None, 20)                860       \n",
      "                                                                 \n",
      " dropout_1 (Dropout)         (None, 20)                0         \n",
      "                                                                 \n",
      " dense_1 (Dense)             (None, 10)                210       \n",
      "                                                                 \n",
      " dense_2 (Dense)             (None, 26)                286       \n",
      "                                                                 \n",
      "=================================================================\n",
      "Total params: 1,356\n",
      "Trainable params: 1,356\n",
      "Non-trainable params: 0\n",
      "_________________________________________________________________\n"
     ]
    }
   ],
   "source": [
    "model.summary()  # tf.keras.utils.plot_model(model, show_shapes=True)"
   ]
  },
  {
   "cell_type": "code",
   "execution_count": 9,
   "metadata": {
    "id": "MbMjOflQ9hE1"
   },
   "outputs": [],
   "source": [
    "# Model checkpoint callback\n",
    "cp_callback = tf.keras.callbacks.ModelCheckpoint(\n",
    "    model_save_path, verbose=1, save_weights_only=False)\n",
    "# Callback for early stopping\n",
    "es_callback = tf.keras.callbacks.EarlyStopping(patience=20, verbose=1)"
   ]
  },
  {
   "cell_type": "code",
   "execution_count": 10,
   "metadata": {
    "id": "c3Dac0M_9hE2"
   },
   "outputs": [],
   "source": [
    "# Model compilation\n",
    "model.compile(\n",
    "    optimizer='adam',\n",
    "    loss='sparse_categorical_crossentropy',\n",
    "    metrics=['accuracy']\n",
    ")"
   ]
  },
  {
   "cell_type": "markdown",
   "metadata": {
    "id": "7XI0j1Iu9hE2"
   },
   "source": [
    "# Model training"
   ]
  },
  {
   "cell_type": "code",
   "execution_count": 11,
   "metadata": {
    "colab": {
     "base_uri": "https://localhost:8080/"
    },
    "id": "WirBl-JE9hE3",
    "outputId": "71b30ca2-8294-4d9d-8aa2-800d90d399de",
    "scrolled": true
   },
   "outputs": [
    {
     "name": "stdout",
     "output_type": "stream",
     "text": [
      "Epoch 1/1000\n",
      "440/443 [============================>.] - ETA: 0s - loss: 2.6748 - accuracy: 0.1714\n",
      "Epoch 1: saving model to model/keypoint_classifier\\keypoint_classifier.hdf5\n",
      "443/443 [==============================] - 4s 5ms/step - loss: 2.6718 - accuracy: 0.1724 - val_loss: 1.8083 - val_accuracy: 0.5363\n",
      "Epoch 2/1000\n",
      "437/443 [============================>.] - ETA: 0s - loss: 1.9013 - accuracy: 0.3592\n",
      "Epoch 2: saving model to model/keypoint_classifier\\keypoint_classifier.hdf5\n",
      "443/443 [==============================] - 2s 5ms/step - loss: 1.8994 - accuracy: 0.3602 - val_loss: 1.2641 - val_accuracy: 0.7284\n",
      "Epoch 3/1000\n",
      "442/443 [============================>.] - ETA: 0s - loss: 1.6754 - accuracy: 0.4319\n",
      "Epoch 3: saving model to model/keypoint_classifier\\keypoint_classifier.hdf5\n",
      "443/443 [==============================] - 2s 5ms/step - loss: 1.6755 - accuracy: 0.4318 - val_loss: 1.1048 - val_accuracy: 0.7444\n",
      "Epoch 4/1000\n",
      "434/443 [============================>.] - ETA: 0s - loss: 1.5793 - accuracy: 0.4659\n",
      "Epoch 4: saving model to model/keypoint_classifier\\keypoint_classifier.hdf5\n",
      "443/443 [==============================] - 2s 5ms/step - loss: 1.5792 - accuracy: 0.4663 - val_loss: 1.0055 - val_accuracy: 0.7728\n",
      "Epoch 5/1000\n",
      "442/443 [============================>.] - ETA: 0s - loss: 1.5083 - accuracy: 0.4911\n",
      "Epoch 5: saving model to model/keypoint_classifier\\keypoint_classifier.hdf5\n",
      "443/443 [==============================] - 2s 5ms/step - loss: 1.5081 - accuracy: 0.4911 - val_loss: 0.9487 - val_accuracy: 0.7857\n",
      "Epoch 6/1000\n",
      "443/443 [==============================] - ETA: 0s - loss: 1.4669 - accuracy: 0.5085\n",
      "Epoch 6: saving model to model/keypoint_classifier\\keypoint_classifier.hdf5\n",
      "443/443 [==============================] - 2s 4ms/step - loss: 1.4669 - accuracy: 0.5085 - val_loss: 0.9163 - val_accuracy: 0.7891\n",
      "Epoch 7/1000\n",
      "436/443 [============================>.] - ETA: 0s - loss: 1.4181 - accuracy: 0.5223\n",
      "Epoch 7: saving model to model/keypoint_classifier\\keypoint_classifier.hdf5\n",
      "443/443 [==============================] - 2s 4ms/step - loss: 1.4180 - accuracy: 0.5223 - val_loss: 0.8732 - val_accuracy: 0.8402\n",
      "Epoch 8/1000\n",
      "443/443 [==============================] - ETA: 0s - loss: 1.3848 - accuracy: 0.5358\n",
      "Epoch 8: saving model to model/keypoint_classifier\\keypoint_classifier.hdf5\n",
      "443/443 [==============================] - 2s 4ms/step - loss: 1.3848 - accuracy: 0.5358 - val_loss: 0.8488 - val_accuracy: 0.8383\n",
      "Epoch 9/1000\n",
      "440/443 [============================>.] - ETA: 0s - loss: 1.3533 - accuracy: 0.5416\n",
      "Epoch 9: saving model to model/keypoint_classifier\\keypoint_classifier.hdf5\n",
      "443/443 [==============================] - 2s 4ms/step - loss: 1.3533 - accuracy: 0.5418 - val_loss: 0.8238 - val_accuracy: 0.8296\n",
      "Epoch 10/1000\n",
      "436/443 [============================>.] - ETA: 0s - loss: 1.3368 - accuracy: 0.5552\n",
      "Epoch 10: saving model to model/keypoint_classifier\\keypoint_classifier.hdf5\n",
      "443/443 [==============================] - 2s 4ms/step - loss: 1.3359 - accuracy: 0.5551 - val_loss: 0.8022 - val_accuracy: 0.8327\n",
      "Epoch 11/1000\n",
      "439/443 [============================>.] - ETA: 0s - loss: 1.3083 - accuracy: 0.5585\n",
      "Epoch 11: saving model to model/keypoint_classifier\\keypoint_classifier.hdf5\n",
      "443/443 [==============================] - 2s 4ms/step - loss: 1.3087 - accuracy: 0.5583 - val_loss: 0.7912 - val_accuracy: 0.8213\n",
      "Epoch 12/1000\n",
      "432/443 [============================>.] - ETA: 0s - loss: 1.2873 - accuracy: 0.5677\n",
      "Epoch 12: saving model to model/keypoint_classifier\\keypoint_classifier.hdf5\n",
      "443/443 [==============================] - 2s 4ms/step - loss: 1.2882 - accuracy: 0.5677 - val_loss: 0.7710 - val_accuracy: 0.8327\n",
      "Epoch 13/1000\n",
      "438/443 [============================>.] - ETA: 0s - loss: 1.2830 - accuracy: 0.5695\n",
      "Epoch 13: saving model to model/keypoint_classifier\\keypoint_classifier.hdf5\n",
      "443/443 [==============================] - 2s 4ms/step - loss: 1.2835 - accuracy: 0.5697 - val_loss: 0.7461 - val_accuracy: 0.8450\n",
      "Epoch 14/1000\n",
      "438/443 [============================>.] - ETA: 0s - loss: 1.2712 - accuracy: 0.5739\n",
      "Epoch 14: saving model to model/keypoint_classifier\\keypoint_classifier.hdf5\n",
      "443/443 [==============================] - 2s 4ms/step - loss: 1.2712 - accuracy: 0.5736 - val_loss: 0.7345 - val_accuracy: 0.8530\n",
      "Epoch 15/1000\n",
      "443/443 [==============================] - ETA: 0s - loss: 1.2616 - accuracy: 0.5791\n",
      "Epoch 15: saving model to model/keypoint_classifier\\keypoint_classifier.hdf5\n",
      "443/443 [==============================] - 2s 4ms/step - loss: 1.2616 - accuracy: 0.5791 - val_loss: 0.7312 - val_accuracy: 0.8541\n",
      "Epoch 16/1000\n",
      "425/443 [===========================>..] - ETA: 0s - loss: 1.2493 - accuracy: 0.5829\n",
      "Epoch 16: saving model to model/keypoint_classifier\\keypoint_classifier.hdf5\n",
      "443/443 [==============================] - 2s 4ms/step - loss: 1.2476 - accuracy: 0.5828 - val_loss: 0.7077 - val_accuracy: 0.8526\n",
      "Epoch 17/1000\n",
      "442/443 [============================>.] - ETA: 0s - loss: 1.2454 - accuracy: 0.5880\n",
      "Epoch 17: saving model to model/keypoint_classifier\\keypoint_classifier.hdf5\n",
      "443/443 [==============================] - 2s 4ms/step - loss: 1.2450 - accuracy: 0.5880 - val_loss: 0.7130 - val_accuracy: 0.8601\n",
      "Epoch 18/1000\n",
      "439/443 [============================>.] - ETA: 0s - loss: 1.2251 - accuracy: 0.5935\n",
      "Epoch 18: saving model to model/keypoint_classifier\\keypoint_classifier.hdf5\n",
      "443/443 [==============================] - 2s 4ms/step - loss: 1.2252 - accuracy: 0.5934 - val_loss: 0.6985 - val_accuracy: 0.8493\n",
      "Epoch 19/1000\n",
      "441/443 [============================>.] - ETA: 0s - loss: 1.2229 - accuracy: 0.5927\n",
      "Epoch 19: saving model to model/keypoint_classifier\\keypoint_classifier.hdf5\n",
      "443/443 [==============================] - 2s 4ms/step - loss: 1.2236 - accuracy: 0.5926 - val_loss: 0.6946 - val_accuracy: 0.8592\n",
      "Epoch 20/1000\n",
      "442/443 [============================>.] - ETA: 0s - loss: 1.2127 - accuracy: 0.5977\n",
      "Epoch 20: saving model to model/keypoint_classifier\\keypoint_classifier.hdf5\n",
      "443/443 [==============================] - 2s 4ms/step - loss: 1.2126 - accuracy: 0.5978 - val_loss: 0.6725 - val_accuracy: 0.8643\n",
      "Epoch 21/1000\n",
      "436/443 [============================>.] - ETA: 0s - loss: 1.1988 - accuracy: 0.6003\n",
      "Epoch 21: saving model to model/keypoint_classifier\\keypoint_classifier.hdf5\n",
      "443/443 [==============================] - 2s 4ms/step - loss: 1.1984 - accuracy: 0.6006 - val_loss: 0.6698 - val_accuracy: 0.8628\n",
      "Epoch 22/1000\n",
      "438/443 [============================>.] - ETA: 0s - loss: 1.1977 - accuracy: 0.6030\n",
      "Epoch 22: saving model to model/keypoint_classifier\\keypoint_classifier.hdf5\n",
      "443/443 [==============================] - 2s 4ms/step - loss: 1.1973 - accuracy: 0.6031 - val_loss: 0.6567 - val_accuracy: 0.8616\n",
      "Epoch 23/1000\n",
      "426/443 [===========================>..] - ETA: 0s - loss: 1.1936 - accuracy: 0.6056\n",
      "Epoch 23: saving model to model/keypoint_classifier\\keypoint_classifier.hdf5\n",
      "443/443 [==============================] - 2s 4ms/step - loss: 1.1940 - accuracy: 0.6054 - val_loss: 0.6576 - val_accuracy: 0.8538\n",
      "Epoch 24/1000\n",
      "434/443 [============================>.] - ETA: 0s - loss: 1.1929 - accuracy: 0.6058\n",
      "Epoch 24: saving model to model/keypoint_classifier\\keypoint_classifier.hdf5\n",
      "443/443 [==============================] - 2s 4ms/step - loss: 1.1925 - accuracy: 0.6057 - val_loss: 0.6474 - val_accuracy: 0.8674\n",
      "Epoch 25/1000\n",
      "441/443 [============================>.] - ETA: 0s - loss: 1.1874 - accuracy: 0.6070\n",
      "Epoch 25: saving model to model/keypoint_classifier\\keypoint_classifier.hdf5\n",
      "443/443 [==============================] - 2s 4ms/step - loss: 1.1883 - accuracy: 0.6071 - val_loss: 0.6570 - val_accuracy: 0.8647\n",
      "Epoch 26/1000\n",
      "429/443 [============================>.] - ETA: 0s - loss: 1.1832 - accuracy: 0.6090\n",
      "Epoch 26: saving model to model/keypoint_classifier\\keypoint_classifier.hdf5\n",
      "443/443 [==============================] - 2s 4ms/step - loss: 1.1837 - accuracy: 0.6096 - val_loss: 0.6515 - val_accuracy: 0.8637\n",
      "Epoch 27/1000\n",
      "439/443 [============================>.] - ETA: 0s - loss: 1.1820 - accuracy: 0.6091\n",
      "Epoch 27: saving model to model/keypoint_classifier\\keypoint_classifier.hdf5\n",
      "443/443 [==============================] - 2s 3ms/step - loss: 1.1815 - accuracy: 0.6093 - val_loss: 0.6398 - val_accuracy: 0.8684\n"
     ]
    },
    {
     "name": "stdout",
     "output_type": "stream",
     "text": [
      "Epoch 28/1000\n",
      "424/443 [===========================>..] - ETA: 0s - loss: 1.1734 - accuracy: 0.6148\n",
      "Epoch 28: saving model to model/keypoint_classifier\\keypoint_classifier.hdf5\n",
      "443/443 [==============================] - 2s 4ms/step - loss: 1.1717 - accuracy: 0.6147 - val_loss: 0.6423 - val_accuracy: 0.8673\n",
      "Epoch 29/1000\n",
      "431/443 [============================>.] - ETA: 0s - loss: 1.1750 - accuracy: 0.6142\n",
      "Epoch 29: saving model to model/keypoint_classifier\\keypoint_classifier.hdf5\n",
      "443/443 [==============================] - 1s 3ms/step - loss: 1.1743 - accuracy: 0.6143 - val_loss: 0.6255 - val_accuracy: 0.8720\n",
      "Epoch 30/1000\n",
      "432/443 [============================>.] - ETA: 0s - loss: 1.1710 - accuracy: 0.6131\n",
      "Epoch 30: saving model to model/keypoint_classifier\\keypoint_classifier.hdf5\n",
      "443/443 [==============================] - 2s 3ms/step - loss: 1.1712 - accuracy: 0.6134 - val_loss: 0.6423 - val_accuracy: 0.8589\n",
      "Epoch 31/1000\n",
      "425/443 [===========================>..] - ETA: 0s - loss: 1.1659 - accuracy: 0.6147\n",
      "Epoch 31: saving model to model/keypoint_classifier\\keypoint_classifier.hdf5\n",
      "443/443 [==============================] - 2s 3ms/step - loss: 1.1650 - accuracy: 0.6152 - val_loss: 0.6241 - val_accuracy: 0.8700\n",
      "Epoch 32/1000\n",
      "437/443 [============================>.] - ETA: 0s - loss: 1.1668 - accuracy: 0.6152\n",
      "Epoch 32: saving model to model/keypoint_classifier\\keypoint_classifier.hdf5\n",
      "443/443 [==============================] - 1s 3ms/step - loss: 1.1662 - accuracy: 0.6152 - val_loss: 0.6282 - val_accuracy: 0.8658\n",
      "Epoch 33/1000\n",
      "431/443 [============================>.] - ETA: 0s - loss: 1.1583 - accuracy: 0.6186\n",
      "Epoch 33: saving model to model/keypoint_classifier\\keypoint_classifier.hdf5\n",
      "443/443 [==============================] - 1s 3ms/step - loss: 1.1589 - accuracy: 0.6188 - val_loss: 0.6272 - val_accuracy: 0.8703\n",
      "Epoch 34/1000\n",
      "439/443 [============================>.] - ETA: 0s - loss: 1.1493 - accuracy: 0.6211\n",
      "Epoch 34: saving model to model/keypoint_classifier\\keypoint_classifier.hdf5\n",
      "443/443 [==============================] - 1s 3ms/step - loss: 1.1489 - accuracy: 0.6214 - val_loss: 0.6170 - val_accuracy: 0.8656\n",
      "Epoch 35/1000\n",
      "441/443 [============================>.] - ETA: 0s - loss: 1.1560 - accuracy: 0.6191\n",
      "Epoch 35: saving model to model/keypoint_classifier\\keypoint_classifier.hdf5\n",
      "443/443 [==============================] - 1s 3ms/step - loss: 1.1562 - accuracy: 0.6192 - val_loss: 0.6279 - val_accuracy: 0.8561\n",
      "Epoch 36/1000\n",
      "443/443 [==============================] - ETA: 0s - loss: 1.1582 - accuracy: 0.6204\n",
      "Epoch 36: saving model to model/keypoint_classifier\\keypoint_classifier.hdf5\n",
      "443/443 [==============================] - 1s 3ms/step - loss: 1.1582 - accuracy: 0.6204 - val_loss: 0.6344 - val_accuracy: 0.8567\n",
      "Epoch 37/1000\n",
      "432/443 [============================>.] - ETA: 0s - loss: 1.1503 - accuracy: 0.6248\n",
      "Epoch 37: saving model to model/keypoint_classifier\\keypoint_classifier.hdf5\n",
      "443/443 [==============================] - 1s 3ms/step - loss: 1.1505 - accuracy: 0.6243 - val_loss: 0.6255 - val_accuracy: 0.8662\n",
      "Epoch 38/1000\n",
      "438/443 [============================>.] - ETA: 0s - loss: 1.1429 - accuracy: 0.6269\n",
      "Epoch 38: saving model to model/keypoint_classifier\\keypoint_classifier.hdf5\n",
      "443/443 [==============================] - 2s 4ms/step - loss: 1.1419 - accuracy: 0.6271 - val_loss: 0.6223 - val_accuracy: 0.8630\n",
      "Epoch 39/1000\n",
      "438/443 [============================>.] - ETA: 0s - loss: 1.1451 - accuracy: 0.6272\n",
      "Epoch 39: saving model to model/keypoint_classifier\\keypoint_classifier.hdf5\n",
      "443/443 [==============================] - 2s 4ms/step - loss: 1.1450 - accuracy: 0.6273 - val_loss: 0.6202 - val_accuracy: 0.8670\n",
      "Epoch 40/1000\n",
      "434/443 [============================>.] - ETA: 0s - loss: 1.1355 - accuracy: 0.6270\n",
      "Epoch 40: saving model to model/keypoint_classifier\\keypoint_classifier.hdf5\n",
      "443/443 [==============================] - 2s 4ms/step - loss: 1.1346 - accuracy: 0.6274 - val_loss: 0.6111 - val_accuracy: 0.8670\n",
      "Epoch 41/1000\n",
      "439/443 [============================>.] - ETA: 0s - loss: 1.1366 - accuracy: 0.6290\n",
      "Epoch 41: saving model to model/keypoint_classifier\\keypoint_classifier.hdf5\n",
      "443/443 [==============================] - 2s 4ms/step - loss: 1.1366 - accuracy: 0.6289 - val_loss: 0.6221 - val_accuracy: 0.8665\n",
      "Epoch 42/1000\n",
      "428/443 [===========================>..] - ETA: 0s - loss: 1.1335 - accuracy: 0.6293\n",
      "Epoch 42: saving model to model/keypoint_classifier\\keypoint_classifier.hdf5\n",
      "443/443 [==============================] - 2s 4ms/step - loss: 1.1346 - accuracy: 0.6292 - val_loss: 0.6200 - val_accuracy: 0.8575\n",
      "Epoch 43/1000\n",
      "434/443 [============================>.] - ETA: 0s - loss: 1.1378 - accuracy: 0.6300\n",
      "Epoch 43: saving model to model/keypoint_classifier\\keypoint_classifier.hdf5\n",
      "443/443 [==============================] - 2s 4ms/step - loss: 1.1372 - accuracy: 0.6297 - val_loss: 0.6219 - val_accuracy: 0.8587\n",
      "Epoch 44/1000\n",
      "434/443 [============================>.] - ETA: 0s - loss: 1.1244 - accuracy: 0.6348\n",
      "Epoch 44: saving model to model/keypoint_classifier\\keypoint_classifier.hdf5\n",
      "443/443 [==============================] - 2s 4ms/step - loss: 1.1253 - accuracy: 0.6350 - val_loss: 0.6163 - val_accuracy: 0.8598\n",
      "Epoch 45/1000\n",
      "438/443 [============================>.] - ETA: 0s - loss: 1.1249 - accuracy: 0.6348\n",
      "Epoch 45: saving model to model/keypoint_classifier\\keypoint_classifier.hdf5\n",
      "443/443 [==============================] - 2s 4ms/step - loss: 1.1243 - accuracy: 0.6351 - val_loss: 0.6218 - val_accuracy: 0.8581\n",
      "Epoch 46/1000\n",
      "428/443 [===========================>..] - ETA: 0s - loss: 1.1301 - accuracy: 0.6346\n",
      "Epoch 46: saving model to model/keypoint_classifier\\keypoint_classifier.hdf5\n",
      "443/443 [==============================] - 2s 4ms/step - loss: 1.1294 - accuracy: 0.6349 - val_loss: 0.6311 - val_accuracy: 0.8493\n",
      "Epoch 47/1000\n",
      "434/443 [============================>.] - ETA: 0s - loss: 1.1310 - accuracy: 0.6326\n",
      "Epoch 47: saving model to model/keypoint_classifier\\keypoint_classifier.hdf5\n",
      "443/443 [==============================] - 1s 3ms/step - loss: 1.1303 - accuracy: 0.6328 - val_loss: 0.6337 - val_accuracy: 0.8485\n",
      "Epoch 48/1000\n",
      "437/443 [============================>.] - ETA: 0s - loss: 1.1213 - accuracy: 0.6329\n",
      "Epoch 48: saving model to model/keypoint_classifier\\keypoint_classifier.hdf5\n",
      "443/443 [==============================] - 2s 3ms/step - loss: 1.1209 - accuracy: 0.6329 - val_loss: 0.6254 - val_accuracy: 0.8637\n",
      "Epoch 49/1000\n",
      "428/443 [===========================>..] - ETA: 0s - loss: 1.1242 - accuracy: 0.6360\n",
      "Epoch 49: saving model to model/keypoint_classifier\\keypoint_classifier.hdf5\n",
      "443/443 [==============================] - 2s 3ms/step - loss: 1.1241 - accuracy: 0.6361 - val_loss: 0.6315 - val_accuracy: 0.8492\n",
      "Epoch 50/1000\n",
      "427/443 [===========================>..] - ETA: 0s - loss: 1.1197 - accuracy: 0.6361\n",
      "Epoch 50: saving model to model/keypoint_classifier\\keypoint_classifier.hdf5\n",
      "443/443 [==============================] - 1s 3ms/step - loss: 1.1208 - accuracy: 0.6356 - val_loss: 0.6179 - val_accuracy: 0.8627\n",
      "Epoch 51/1000\n",
      "436/443 [============================>.] - ETA: 0s - loss: 1.1154 - accuracy: 0.6400\n",
      "Epoch 51: saving model to model/keypoint_classifier\\keypoint_classifier.hdf5\n",
      "443/443 [==============================] - 1s 3ms/step - loss: 1.1163 - accuracy: 0.6397 - val_loss: 0.6220 - val_accuracy: 0.8547\n",
      "Epoch 52/1000\n",
      "430/443 [============================>.] - ETA: 0s - loss: 1.1133 - accuracy: 0.6407\n",
      "Epoch 52: saving model to model/keypoint_classifier\\keypoint_classifier.hdf5\n",
      "443/443 [==============================] - 2s 3ms/step - loss: 1.1124 - accuracy: 0.6405 - val_loss: 0.6262 - val_accuracy: 0.8501\n",
      "Epoch 53/1000\n",
      "442/443 [============================>.] - ETA: 0s - loss: 1.1102 - accuracy: 0.6416\n",
      "Epoch 53: saving model to model/keypoint_classifier\\keypoint_classifier.hdf5\n",
      "443/443 [==============================] - 1s 3ms/step - loss: 1.1102 - accuracy: 0.6416 - val_loss: 0.6374 - val_accuracy: 0.8470\n",
      "Epoch 54/1000\n",
      "438/443 [============================>.] - ETA: 0s - loss: 1.1217 - accuracy: 0.6386\n",
      "Epoch 54: saving model to model/keypoint_classifier\\keypoint_classifier.hdf5\n",
      "443/443 [==============================] - 1s 3ms/step - loss: 1.1219 - accuracy: 0.6385 - val_loss: 0.6213 - val_accuracy: 0.8572\n"
     ]
    },
    {
     "name": "stdout",
     "output_type": "stream",
     "text": [
      "Epoch 55/1000\n",
      "440/443 [============================>.] - ETA: 0s - loss: 1.1156 - accuracy: 0.6405\n",
      "Epoch 55: saving model to model/keypoint_classifier\\keypoint_classifier.hdf5\n",
      "443/443 [==============================] - 1s 3ms/step - loss: 1.1147 - accuracy: 0.6408 - val_loss: 0.6460 - val_accuracy: 0.8431\n",
      "Epoch 56/1000\n",
      "441/443 [============================>.] - ETA: 0s - loss: 1.1073 - accuracy: 0.6407\n",
      "Epoch 56: saving model to model/keypoint_classifier\\keypoint_classifier.hdf5\n",
      "443/443 [==============================] - 2s 4ms/step - loss: 1.1070 - accuracy: 0.6407 - val_loss: 0.6440 - val_accuracy: 0.8486\n",
      "Epoch 57/1000\n",
      "440/443 [============================>.] - ETA: 0s - loss: 1.1180 - accuracy: 0.6397\n",
      "Epoch 57: saving model to model/keypoint_classifier\\keypoint_classifier.hdf5\n",
      "443/443 [==============================] - 2s 4ms/step - loss: 1.1176 - accuracy: 0.6398 - val_loss: 0.6386 - val_accuracy: 0.8440\n",
      "Epoch 58/1000\n",
      "426/443 [===========================>..] - ETA: 0s - loss: 1.1054 - accuracy: 0.6392\n",
      "Epoch 58: saving model to model/keypoint_classifier\\keypoint_classifier.hdf5\n",
      "443/443 [==============================] - 2s 4ms/step - loss: 1.1078 - accuracy: 0.6385 - val_loss: 0.6410 - val_accuracy: 0.8618\n",
      "Epoch 59/1000\n",
      "431/443 [============================>.] - ETA: 0s - loss: 1.1110 - accuracy: 0.6427\n",
      "Epoch 59: saving model to model/keypoint_classifier\\keypoint_classifier.hdf5\n",
      "443/443 [==============================] - 2s 4ms/step - loss: 1.1102 - accuracy: 0.6425 - val_loss: 0.6250 - val_accuracy: 0.8537\n",
      "Epoch 60/1000\n",
      "431/443 [============================>.] - ETA: 0s - loss: 1.1068 - accuracy: 0.6436\n",
      "Epoch 60: saving model to model/keypoint_classifier\\keypoint_classifier.hdf5\n",
      "443/443 [==============================] - 2s 4ms/step - loss: 1.1062 - accuracy: 0.6434 - val_loss: 0.6102 - val_accuracy: 0.8581\n",
      "Epoch 61/1000\n",
      "432/443 [============================>.] - ETA: 0s - loss: 1.1082 - accuracy: 0.6443\n",
      "Epoch 61: saving model to model/keypoint_classifier\\keypoint_classifier.hdf5\n",
      "443/443 [==============================] - 2s 4ms/step - loss: 1.1082 - accuracy: 0.6445 - val_loss: 0.6473 - val_accuracy: 0.8331\n",
      "Epoch 62/1000\n",
      "433/443 [============================>.] - ETA: 0s - loss: 1.1007 - accuracy: 0.6433\n",
      "Epoch 62: saving model to model/keypoint_classifier\\keypoint_classifier.hdf5\n",
      "443/443 [==============================] - 2s 4ms/step - loss: 1.1002 - accuracy: 0.6433 - val_loss: 0.6363 - val_accuracy: 0.8450\n",
      "Epoch 63/1000\n",
      "431/443 [============================>.] - ETA: 0s - loss: 1.0921 - accuracy: 0.6447\n",
      "Epoch 63: saving model to model/keypoint_classifier\\keypoint_classifier.hdf5\n",
      "443/443 [==============================] - 2s 4ms/step - loss: 1.0936 - accuracy: 0.6445 - val_loss: 0.6656 - val_accuracy: 0.8302\n",
      "Epoch 64/1000\n",
      "438/443 [============================>.] - ETA: 0s - loss: 1.0976 - accuracy: 0.6467\n",
      "Epoch 64: saving model to model/keypoint_classifier\\keypoint_classifier.hdf5\n",
      "443/443 [==============================] - 2s 4ms/step - loss: 1.0966 - accuracy: 0.6469 - val_loss: 0.6469 - val_accuracy: 0.8260\n",
      "Epoch 65/1000\n",
      "431/443 [============================>.] - ETA: 0s - loss: 1.0971 - accuracy: 0.6451\n",
      "Epoch 65: saving model to model/keypoint_classifier\\keypoint_classifier.hdf5\n",
      "443/443 [==============================] - 2s 4ms/step - loss: 1.0966 - accuracy: 0.6453 - val_loss: 0.6394 - val_accuracy: 0.8476\n",
      "Epoch 66/1000\n",
      "438/443 [============================>.] - ETA: 0s - loss: 1.0952 - accuracy: 0.6487\n",
      "Epoch 66: saving model to model/keypoint_classifier\\keypoint_classifier.hdf5\n",
      "443/443 [==============================] - 2s 4ms/step - loss: 1.0942 - accuracy: 0.6489 - val_loss: 0.6421 - val_accuracy: 0.8305\n",
      "Epoch 67/1000\n",
      "432/443 [============================>.] - ETA: 0s - loss: 1.1018 - accuracy: 0.6443\n",
      "Epoch 67: saving model to model/keypoint_classifier\\keypoint_classifier.hdf5\n",
      "443/443 [==============================] - 1s 3ms/step - loss: 1.1032 - accuracy: 0.6445 - val_loss: 0.6315 - val_accuracy: 0.8469\n",
      "Epoch 68/1000\n",
      "428/443 [===========================>..] - ETA: 0s - loss: 1.0961 - accuracy: 0.6496\n",
      "Epoch 68: saving model to model/keypoint_classifier\\keypoint_classifier.hdf5\n",
      "443/443 [==============================] - 1s 3ms/step - loss: 1.0952 - accuracy: 0.6498 - val_loss: 0.6339 - val_accuracy: 0.8337\n",
      "Epoch 69/1000\n",
      "431/443 [============================>.] - ETA: 0s - loss: 1.0926 - accuracy: 0.6481\n",
      "Epoch 69: saving model to model/keypoint_classifier\\keypoint_classifier.hdf5\n",
      "443/443 [==============================] - 1s 3ms/step - loss: 1.0935 - accuracy: 0.6482 - val_loss: 0.6522 - val_accuracy: 0.8261\n",
      "Epoch 70/1000\n",
      "437/443 [============================>.] - ETA: 0s - loss: 1.0858 - accuracy: 0.6492\n",
      "Epoch 70: saving model to model/keypoint_classifier\\keypoint_classifier.hdf5\n",
      "443/443 [==============================] - 1s 3ms/step - loss: 1.0858 - accuracy: 0.6494 - val_loss: 0.6400 - val_accuracy: 0.8201\n",
      "Epoch 71/1000\n",
      "437/443 [============================>.] - ETA: 0s - loss: 1.0902 - accuracy: 0.6495\n",
      "Epoch 71: saving model to model/keypoint_classifier\\keypoint_classifier.hdf5\n",
      "443/443 [==============================] - 1s 3ms/step - loss: 1.0894 - accuracy: 0.6492 - val_loss: 0.6577 - val_accuracy: 0.8345\n",
      "Epoch 72/1000\n",
      "439/443 [============================>.] - ETA: 0s - loss: 1.0926 - accuracy: 0.6496\n",
      "Epoch 72: saving model to model/keypoint_classifier\\keypoint_classifier.hdf5\n",
      "443/443 [==============================] - 1s 3ms/step - loss: 1.0925 - accuracy: 0.6497 - val_loss: 0.6815 - val_accuracy: 0.8089\n",
      "Epoch 73/1000\n",
      "440/443 [============================>.] - ETA: 0s - loss: 1.0836 - accuracy: 0.6483\n",
      "Epoch 73: saving model to model/keypoint_classifier\\keypoint_classifier.hdf5\n",
      "443/443 [==============================] - 1s 3ms/step - loss: 1.0830 - accuracy: 0.6485 - val_loss: 0.6454 - val_accuracy: 0.8320\n",
      "Epoch 74/1000\n",
      "425/443 [===========================>..] - ETA: 0s - loss: 1.0864 - accuracy: 0.6511\n",
      "Epoch 74: saving model to model/keypoint_classifier\\keypoint_classifier.hdf5\n",
      "443/443 [==============================] - 2s 4ms/step - loss: 1.0872 - accuracy: 0.6507 - val_loss: 0.6564 - val_accuracy: 0.8074\n",
      "Epoch 75/1000\n",
      "427/443 [===========================>..] - ETA: 0s - loss: 1.0846 - accuracy: 0.6537\n",
      "Epoch 75: saving model to model/keypoint_classifier\\keypoint_classifier.hdf5\n",
      "443/443 [==============================] - 2s 4ms/step - loss: 1.0855 - accuracy: 0.6535 - val_loss: 0.6614 - val_accuracy: 0.8259\n",
      "Epoch 76/1000\n",
      "441/443 [============================>.] - ETA: 0s - loss: 1.0834 - accuracy: 0.6527\n",
      "Epoch 76: saving model to model/keypoint_classifier\\keypoint_classifier.hdf5\n",
      "443/443 [==============================] - 2s 4ms/step - loss: 1.0837 - accuracy: 0.6527 - val_loss: 0.6663 - val_accuracy: 0.8103\n",
      "Epoch 77/1000\n",
      "441/443 [============================>.] - ETA: 0s - loss: 1.0781 - accuracy: 0.6541\n",
      "Epoch 77: saving model to model/keypoint_classifier\\keypoint_classifier.hdf5\n",
      "443/443 [==============================] - 2s 4ms/step - loss: 1.0777 - accuracy: 0.6541 - val_loss: 0.6604 - val_accuracy: 0.8148\n",
      "Epoch 78/1000\n",
      "439/443 [============================>.] - ETA: 0s - loss: 1.0775 - accuracy: 0.6550\n",
      "Epoch 78: saving model to model/keypoint_classifier\\keypoint_classifier.hdf5\n",
      "443/443 [==============================] - 2s 4ms/step - loss: 1.0771 - accuracy: 0.6549 - val_loss: 0.6718 - val_accuracy: 0.8076\n",
      "Epoch 79/1000\n",
      "434/443 [============================>.] - ETA: 0s - loss: 1.0732 - accuracy: 0.6535\n",
      "Epoch 79: saving model to model/keypoint_classifier\\keypoint_classifier.hdf5\n",
      "443/443 [==============================] - 2s 4ms/step - loss: 1.0739 - accuracy: 0.6535 - val_loss: 0.6599 - val_accuracy: 0.8068\n",
      "Epoch 80/1000\n",
      "425/443 [===========================>..] - ETA: 0s - loss: 1.0702 - accuracy: 0.6574\n",
      "Epoch 80: saving model to model/keypoint_classifier\\keypoint_classifier.hdf5\n",
      "443/443 [==============================] - 2s 4ms/step - loss: 1.0694 - accuracy: 0.6571 - val_loss: 0.6552 - val_accuracy: 0.8049\n",
      "Epoch 80: early stopping\n"
     ]
    },
    {
     "data": {
      "text/plain": [
       "<keras.callbacks.History at 0x1881a208c70>"
      ]
     },
     "execution_count": 11,
     "metadata": {},
     "output_type": "execute_result"
    }
   ],
   "source": [
    "model.fit(\n",
    "    X_train,\n",
    "    y_train,\n",
    "    epochs=1000,\n",
    "    batch_size=128,\n",
    "    validation_data=(X_test, y_test),\n",
    "    callbacks=[cp_callback, es_callback]\n",
    ")"
   ]
  },
  {
   "cell_type": "code",
   "execution_count": 12,
   "metadata": {
    "colab": {
     "base_uri": "https://localhost:8080/"
    },
    "id": "pxvb2Y299hE3",
    "outputId": "59eb3185-2e37-4b9e-bc9d-ab1b8ac29b7f"
   },
   "outputs": [
    {
     "name": "stdout",
     "output_type": "stream",
     "text": [
      "148/148 [==============================] - 0s 2ms/step - loss: 0.6552 - accuracy: 0.8049\n"
     ]
    }
   ],
   "source": [
    "# Model evaluation\n",
    "val_loss, val_acc = model.evaluate(X_test, y_test, batch_size=128)"
   ]
  },
  {
   "cell_type": "code",
   "execution_count": 13,
   "metadata": {
    "id": "RBkmDeUW9hE4"
   },
   "outputs": [],
   "source": [
    "# Loading the saved model\n",
    "model = tf.keras.models.load_model(model_save_path)"
   ]
  },
  {
   "cell_type": "code",
   "execution_count": 14,
   "metadata": {
    "colab": {
     "base_uri": "https://localhost:8080/"
    },
    "id": "tFz9Tb0I9hE4",
    "outputId": "1c3b3528-54ae-4ee2-ab04-77429211cbef"
   },
   "outputs": [
    {
     "name": "stdout",
     "output_type": "stream",
     "text": [
      "1/1 [==============================] - 0s 130ms/step\n",
      "[4.2607790e-06 2.0121895e-24 9.8831961e-06 2.5993757e-21 1.4613762e-12\n",
      " 5.5087934e-05 9.4293687e-12 5.8422545e-20 1.4352733e-10 7.3604419e-08\n",
      " 2.7083555e-26 1.4760216e-08 2.6970360e-01 7.3001105e-01 1.3995579e-08\n",
      " 1.1598110e-13 2.8327483e-09 0.0000000e+00 4.9709193e-08 1.2676981e-05\n",
      " 4.5621484e-37 4.9135182e-28 3.5560021e-29 4.4053133e-10 1.9518600e-04\n",
      " 8.1213957e-06]\n",
      "13\n"
     ]
    }
   ],
   "source": [
    "# Inference test\n",
    "predict_result = model.predict(np.array([X_test[0]]))\n",
    "print(np.squeeze(predict_result))\n",
    "print(np.argmax(np.squeeze(predict_result)))"
   ]
  },
  {
   "cell_type": "markdown",
   "metadata": {
    "id": "S3U4yNWx9hE4"
   },
   "source": [
    "# Confusion matrix"
   ]
  },
  {
   "cell_type": "code",
   "execution_count": 15,
   "metadata": {
    "colab": {
     "base_uri": "https://localhost:8080/",
     "height": 582
    },
    "id": "AP1V6SCk9hE5",
    "outputId": "08e41a80-7a4a-4619-8125-ecc371368d19"
   },
   "outputs": [
    {
     "name": "stdout",
     "output_type": "stream",
     "text": [
      "591/591 [==============================] - 1s 1ms/step\n"
     ]
    },
    {
     "data": {
      "image/png": "[encoded data removed]",
      "text/plain": [
       "<Figure size 700x600 with 2 Axes>"
      ]
     },
     "metadata": {},
     "output_type": "display_data"
    },
    {
     "name": "stdout",
     "output_type": "stream",
     "text": [
      "Classification Report\n",
      "              precision    recall  f1-score   support\n",
      "\n",
      "           0       0.68      0.94      0.79       735\n",
      "           1       0.93      0.55      0.70       723\n",
      "           2       0.98      0.88      0.93       753\n",
      "           3       0.77      0.96      0.86       771\n",
      "           4       0.73      0.95      0.83       927\n",
      "           5       0.98      0.93      0.95       746\n",
      "           6       0.97      0.97      0.97       801\n",
      "           7       0.96      0.97      0.96       764\n",
      "           8       0.95      0.92      0.93       703\n",
      "           9       0.91      0.96      0.94       744\n",
      "          10       0.96      0.33      0.49       752\n",
      "          11       0.85      0.96      0.90       760\n",
      "          12       0.63      0.61      0.62       541\n",
      "          13       0.71      0.64      0.67       517\n",
      "          14       0.88      0.74      0.80       687\n",
      "          15       0.52      0.98      0.68       721\n",
      "          16       0.86      0.07      0.12       652\n",
      "          17       0.63      0.98      0.77       730\n",
      "          18       0.87      0.73      0.79       696\n",
      "          19       0.87      0.36      0.51       663\n",
      "          20       0.83      0.42      0.56       711\n",
      "          21       0.58      0.96      0.72       728\n",
      "          22       0.96      0.96      0.96       796\n",
      "          23       0.75      0.93      0.83       735\n",
      "          24       0.97      0.95      0.96       722\n",
      "          25       0.94      0.94      0.94       817\n",
      "\n",
      "    accuracy                           0.80     18895\n",
      "   macro avg       0.83      0.79      0.78     18895\n",
      "weighted avg       0.84      0.80      0.79     18895\n",
      "\n"
     ]
    }
   ],
   "source": [
    "import pandas as pd\n",
    "import seaborn as sns\n",
    "import matplotlib.pyplot as plt\n",
    "from sklearn.metrics import confusion_matrix, classification_report\n",
    "\n",
    "def print_confusion_matrix(y_true, y_pred, report=True):\n",
    "    labels = sorted(list(set(y_true)))\n",
    "    cmx_data = confusion_matrix(y_true, y_pred, labels=labels)\n",
    "    \n",
    "    df_cmx = pd.DataFrame(cmx_data, index=labels, columns=labels)\n",
    " \n",
    "    fig, ax = plt.subplots(figsize=(7, 6))\n",
    "    sns.heatmap(df_cmx, annot=True, fmt='g' ,square=False)\n",
    "    ax.set_ylim(len(set(y_true)), 0)\n",
    "    plt.show()\n",
    "    \n",
    "    if report:\n",
    "        print('Classification Report')\n",
    "        print(classification_report(y_test, y_pred))\n",
    "\n",
    "Y_pred = model.predict(X_test)\n",
    "y_pred = np.argmax(Y_pred, axis=1)\n",
    "\n",
    "print_confusion_matrix(y_test, y_pred)"
   ]
  },
  {
   "cell_type": "markdown",
   "metadata": {
    "id": "FNP6aqzc9hE5"
   },
   "source": [
    "# Convert to model for Tensorflow-Lite"
   ]
  },
  {
   "cell_type": "code",
   "execution_count": 16,
   "metadata": {
    "id": "ODjnYyld9hE6"
   },
   "outputs": [],
   "source": [
    "# Save as a model dedicated to inference\n",
    "model.save(model_save_path, include_optimizer=False)"
   ]
  },
  {
   "cell_type": "code",
   "execution_count": 17,
   "metadata": {
    "colab": {
     "base_uri": "https://localhost:8080/"
    },
    "id": "zRfuK8Y59hE6",
    "outputId": "a4ca585c-b5d5-4244-8291-8674063209bb"
   },
   "outputs": [
    {
     "name": "stderr",
     "output_type": "stream",
     "text": [
      "WARNING:absl:Found untraced functions such as _update_step_xla while saving (showing 1 of 1). These functions will not be directly callable after loading.\n"
     ]
    },
    {
     "name": "stdout",
     "output_type": "stream",
     "text": [
      "INFO:tensorflow:Assets written to: C:\\Users\\MOHAME~1\\AppData\\Local\\Temp\\tmpbeeqd8tw\\assets\n"
     ]
    },
    {
     "name": "stderr",
     "output_type": "stream",
     "text": [
      "INFO:tensorflow:Assets written to: C:\\Users\\MOHAME~1\\AppData\\Local\\Temp\\tmpbeeqd8tw\\assets\n"
     ]
    },
    {
     "data": {
      "text/plain": [
       "7512"
      ]
     },
     "execution_count": 17,
     "metadata": {},
     "output_type": "execute_result"
    }
   ],
   "source": [
    "# Transform model (quantization)\n",
    "\n",
    "converter = tf.lite.TFLiteConverter.from_keras_model(model)\n",
    "converter.optimizations = [tf.lite.Optimize.DEFAULT]\n",
    "tflite_quantized_model = converter.convert()\n",
    "\n",
    "open(tflite_save_path, 'wb').write(tflite_quantized_model)"
   ]
  },
  {
   "cell_type": "markdown",
   "metadata": {
    "id": "CHBPBXdx9hE6"
   },
   "source": [
    "# Inference test"
   ]
  },
  {
   "cell_type": "code",
   "execution_count": 18,
   "metadata": {
    "id": "mGAzLocO9hE7"
   },
   "outputs": [],
   "source": [
    "interpreter = tf.lite.Interpreter(model_path=tflite_save_path)\n",
    "interpreter.allocate_tensors()"
   ]
  },
  {
   "cell_type": "code",
   "execution_count": 19,
   "metadata": {
    "id": "oQuDK8YS9hE7"
   },
   "outputs": [],
   "source": [
    "# Get I / O tensor\n",
    "input_details = interpreter.get_input_details()\n",
    "output_details = interpreter.get_output_details()"
   ]
  },
  {
   "cell_type": "code",
   "execution_count": 20,
   "metadata": {
    "id": "2_ixAf_l9hE7"
   },
   "outputs": [],
   "source": [
    "interpreter.set_tensor(input_details[0]['index'], np.array([X_test[0]]))"
   ]
  },
  {
   "cell_type": "code",
   "execution_count": 21,
   "metadata": {
    "colab": {
     "base_uri": "https://localhost:8080/"
    },
    "id": "s4FoAnuc9hE7",
    "outputId": "91f18257-8d8b-4ef3-c558-e9b5f94fabbf",
    "scrolled": true
   },
   "outputs": [
    {
     "name": "stdout",
     "output_type": "stream",
     "text": [
      "CPU times: total: 0 ns\n",
      "Wall time: 0 ns\n"
     ]
    }
   ],
   "source": [
    "%%time\n",
    "# Inference implementation\n",
    "interpreter.invoke()\n",
    "tflite_results = interpreter.get_tensor(output_details[0]['index'])"
   ]
  },
  {
   "cell_type": "code",
   "execution_count": 22,
   "metadata": {
    "colab": {
     "base_uri": "https://localhost:8080/"
    },
    "id": "vONjp19J9hE8",
    "outputId": "77205e24-fd00-42c4-f7b6-e06e527c2cba"
   },
   "outputs": [
    {
     "name": "stdout",
     "output_type": "stream",
     "text": [
      "[4.26079350e-06 2.01217492e-24 9.88319971e-06 2.59938660e-21\n",
      " 1.46137692e-12 5.50879049e-05 9.42942599e-12 5.84227973e-20\n",
      " 1.43527371e-10 7.36045891e-08 2.70836687e-26 1.47602250e-08\n",
      " 2.69703239e-01 7.30011404e-01 1.39955585e-08 1.15981375e-13\n",
      " 2.83274404e-09 0.00000000e+00 4.97092110e-08 1.26769974e-05\n",
      " 4.56215024e-37 4.91353888e-28 3.55600395e-29 4.40531556e-10\n",
      " 1.95186454e-04 8.12140024e-06]\n",
      "13\n"
     ]
    }
   ],
   "source": [
    "print(np.squeeze(tflite_results))\n",
    "print(np.argmax(np.squeeze(tflite_results)))"
   ]
  }
 ],
 "metadata": {
  "accelerator": "GPU",
  "colab": {
   "collapsed_sections": [],
   "name": "keypoint_classification_EN.ipynb",
   "provenance": [],
   "toc_visible": true
  },
  "kernelspec": {
   "display_name": "Python 3 (ipykernel)",
   "language": "python",
   "name": "python3"
  },
  "language_info": {
   "codemirror_mode": {
    "name": "ipython",
    "version": 3
   },
   "file_extension": ".py",
   "mimetype": "text/x-python",
   "name": "python",
   "nbconvert_exporter": "python",
   "pygments_lexer": "ipython3",
   "version": "3.10.8"
  }
 },
 "nbformat": 4,
 "nbformat_minor": 1
}
