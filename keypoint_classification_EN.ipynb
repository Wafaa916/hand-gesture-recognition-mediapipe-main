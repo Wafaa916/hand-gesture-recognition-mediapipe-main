{
 "cells": [
  {
   "cell_type": "code",
   "execution_count": 1,
   "metadata": {
    "id": "igMyGnjE9hEp"
   },
   "outputs": [],
   "source": [
    "import csv\n",
    "\n",
    "import numpy as np\n",
    "import tensorflow as tf\n",
    "from sklearn.model_selection import train_test_split\n",
    "\n",
    "RANDOM_SEED = 42"
   ]
  },
  {
   "cell_type": "markdown",
   "metadata": {
    "id": "t2HDvhIu9hEr"
   },
   "source": [
    "# Specify each path"
   ]
  },
  {
   "cell_type": "code",
   "execution_count": 2,
   "metadata": {
    "id": "9NvZP2Zn9hEy"
   },
   "outputs": [],
   "source": [
    "dataset = 'model/keypoint_classifier/keypoint.csv'\n",
    "model_save_path = 'model/keypoint_classifier/keypoint_classifier.hdf5'\n",
    "tflite_save_path = 'model/keypoint_classifier/keypoint_classifier.tflite'"
   ]
  },
  {
   "cell_type": "markdown",
   "metadata": {
    "id": "s5oMH7x19hEz"
   },
   "source": [
    "# Set number of classes"
   ]
  },
  {
   "cell_type": "code",
   "execution_count": 3,
   "metadata": {
    "id": "du4kodXL9hEz"
   },
   "outputs": [],
   "source": [
    "NUM_CLASSES = 26"
   ]
  },
  {
   "cell_type": "markdown",
   "metadata": {
    "id": "XjnL0uso9hEz"
   },
   "source": [
    "# Dataset reading"
   ]
  },
  {
   "cell_type": "code",
   "execution_count": 4,
   "metadata": {
    "id": "QT5ZqtEz9hE0"
   },
   "outputs": [],
   "source": [
    "X_dataset = np.loadtxt(dataset, delimiter=',', dtype='float32', usecols=list(range(1, (21 * 2) + 1)))"
   ]
  },
  {
   "cell_type": "code",
   "execution_count": 5,
   "metadata": {
    "id": "QmoKFsp49hE0"
   },
   "outputs": [],
   "source": [
    "y_dataset = np.loadtxt(dataset, delimiter=',', dtype='int32', usecols=(0))"
   ]
  },
  {
   "cell_type": "code",
   "execution_count": 6,
   "metadata": {
    "id": "xQU7JTZ_9hE0"
   },
   "outputs": [],
   "source": [
    "X_train, X_test, y_train, y_test = train_test_split(X_dataset, y_dataset, train_size=0.75, random_state=RANDOM_SEED)"
   ]
  },
  {
   "cell_type": "markdown",
   "metadata": {
    "id": "mxK_lETT9hE0"
   },
   "source": [
    "# Model building"
   ]
  },
  {
   "cell_type": "code",
   "execution_count": 7,
   "metadata": {
    "id": "vHBmUf1t9hE1"
   },
   "outputs": [],
   "source": [
    "model = tf.keras.models.Sequential([\n",
    "    tf.keras.layers.Input((21 * 2, )),\n",
    "    tf.keras.layers.Dropout(0.2),\n",
    "    tf.keras.layers.Dense(20, activation='relu'),\n",
    "    tf.keras.layers.Dropout(0.4),\n",
    "    tf.keras.layers.Dense(10, activation='relu'),\n",
    "    tf.keras.layers.Dense(NUM_CLASSES, activation='softmax')\n",
    "])"
   ]
  },
  {
   "cell_type": "code",
   "execution_count": 8,
   "metadata": {
    "colab": {
     "base_uri": "https://localhost:8080/"
    },
    "id": "ypqky9tc9hE1",
    "outputId": "5db082bb-30e3-4110-bf63-a1ee777ecd46"
   },
   "outputs": [
    {
     "name": "stdout",
     "output_type": "stream",
     "text": [
      "Model: \"sequential\"\n",
      "_________________________________________________________________\n",
      " Layer (type)                Output Shape              Param #   \n",
      "=================================================================\n",
      " dropout (Dropout)           (None, 42)                0         \n",
      "                                                                 \n",
      " dense (Dense)               (None, 20)                860       \n",
      "                                                                 \n",
      " dropout_1 (Dropout)         (None, 20)                0         \n",
      "                                                                 \n",
      " dense_1 (Dense)             (None, 10)                210       \n",
      "                                                                 \n",
      " dense_2 (Dense)             (None, 26)                286       \n",
      "                                                                 \n",
      "=================================================================\n",
      "Total params: 1,356\n",
      "Trainable params: 1,356\n",
      "Non-trainable params: 0\n",
      "_________________________________________________________________\n"
     ]
    }
   ],
   "source": [
    "model.summary()  # tf.keras.utils.plot_model(model, show_shapes=True)"
   ]
  },
  {
   "cell_type": "code",
   "execution_count": 9,
   "metadata": {
    "id": "MbMjOflQ9hE1"
   },
   "outputs": [],
   "source": [
    "# Model checkpoint callback\n",
    "cp_callback = tf.keras.callbacks.ModelCheckpoint(\n",
    "    model_save_path, verbose=1, save_weights_only=False)\n",
    "# Callback for early stopping\n",
    "es_callback = tf.keras.callbacks.EarlyStopping(patience=20, verbose=1)"
   ]
  },
  {
   "cell_type": "code",
   "execution_count": 10,
   "metadata": {
    "id": "c3Dac0M_9hE2"
   },
   "outputs": [],
   "source": [
    "# Model compilation\n",
    "model.compile(\n",
    "    optimizer='adam',\n",
    "    loss='sparse_categorical_crossentropy',\n",
    "    metrics=['accuracy']\n",
    ")"
   ]
  },
  {
   "cell_type": "markdown",
   "metadata": {
    "id": "7XI0j1Iu9hE2"
   },
   "source": [
    "# Model training"
   ]
  },
  {
   "cell_type": "code",
   "execution_count": 11,
   "metadata": {
    "colab": {
     "base_uri": "https://localhost:8080/"
    },
    "id": "WirBl-JE9hE3",
    "outputId": "71b30ca2-8294-4d9d-8aa2-800d90d399de",
    "scrolled": true
   },
   "outputs": [
    {
     "name": "stdout",
     "output_type": "stream",
     "text": [
      "Epoch 1/1000\n",
      "373/391 [===========================>..] - ETA: 0s - loss: 2.8169 - accuracy: 0.1406\n",
      "Epoch 1: saving model to model/keypoint_classifier\\keypoint_classifier.hdf5\n",
      "391/391 [==============================] - 2s 4ms/step - loss: 2.7942 - accuracy: 0.1448 - val_loss: 2.1164 - val_accuracy: 0.3172\n",
      "Epoch 2/1000\n",
      "374/391 [===========================>..] - ETA: 0s - loss: 2.0216 - accuracy: 0.3234\n",
      "Epoch 2: saving model to model/keypoint_classifier\\keypoint_classifier.hdf5\n",
      "391/391 [==============================] - 1s 3ms/step - loss: 2.0129 - accuracy: 0.3264 - val_loss: 1.3952 - val_accuracy: 0.6663\n",
      "Epoch 3/1000\n",
      "371/391 [===========================>..] - ETA: 0s - loss: 1.7059 - accuracy: 0.4222\n",
      "Epoch 3: saving model to model/keypoint_classifier\\keypoint_classifier.hdf5\n",
      "391/391 [==============================] - 1s 3ms/step - loss: 1.7032 - accuracy: 0.4230 - val_loss: 1.1706 - val_accuracy: 0.7606\n",
      "Epoch 4/1000\n",
      "383/391 [============================>.] - ETA: 0s - loss: 1.5892 - accuracy: 0.4677\n",
      "Epoch 4: saving model to model/keypoint_classifier\\keypoint_classifier.hdf5\n",
      "391/391 [==============================] - 1s 3ms/step - loss: 1.5887 - accuracy: 0.4678 - val_loss: 1.0582 - val_accuracy: 0.7649\n",
      "Epoch 5/1000\n",
      "391/391 [==============================] - ETA: 0s - loss: 1.5112 - accuracy: 0.4952\n",
      "Epoch 5: saving model to model/keypoint_classifier\\keypoint_classifier.hdf5\n",
      "391/391 [==============================] - 1s 3ms/step - loss: 1.5112 - accuracy: 0.4952 - val_loss: 0.9653 - val_accuracy: 0.8077\n",
      "Epoch 6/1000\n",
      "381/391 [============================>.] - ETA: 0s - loss: 1.4547 - accuracy: 0.5148\n",
      "Epoch 6: saving model to model/keypoint_classifier\\keypoint_classifier.hdf5\n",
      "391/391 [==============================] - 2s 5ms/step - loss: 1.4559 - accuracy: 0.5146 - val_loss: 0.9201 - val_accuracy: 0.7840\n",
      "Epoch 7/1000\n",
      "376/391 [===========================>..] - ETA: 0s - loss: 1.4149 - accuracy: 0.5300\n",
      "Epoch 7: saving model to model/keypoint_classifier\\keypoint_classifier.hdf5\n",
      "391/391 [==============================] - 1s 3ms/step - loss: 1.4131 - accuracy: 0.5304 - val_loss: 0.8813 - val_accuracy: 0.7913\n",
      "Epoch 8/1000\n",
      "388/391 [============================>.] - ETA: 0s - loss: 1.3755 - accuracy: 0.5452\n",
      "Epoch 8: saving model to model/keypoint_classifier\\keypoint_classifier.hdf5\n",
      "391/391 [==============================] - 1s 3ms/step - loss: 1.3751 - accuracy: 0.5452 - val_loss: 0.8345 - val_accuracy: 0.8146\n",
      "Epoch 9/1000\n",
      "372/391 [===========================>..] - ETA: 0s - loss: 1.3511 - accuracy: 0.5530\n",
      "Epoch 9: saving model to model/keypoint_classifier\\keypoint_classifier.hdf5\n",
      "391/391 [==============================] - 1s 3ms/step - loss: 1.3484 - accuracy: 0.5534 - val_loss: 0.8132 - val_accuracy: 0.8125\n",
      "Epoch 10/1000\n",
      "372/391 [===========================>..] - ETA: 0s - loss: 1.3340 - accuracy: 0.5579\n",
      "Epoch 10: saving model to model/keypoint_classifier\\keypoint_classifier.hdf5\n",
      "391/391 [==============================] - 1s 3ms/step - loss: 1.3347 - accuracy: 0.5578 - val_loss: 0.7858 - val_accuracy: 0.8032\n",
      "Epoch 11/1000\n",
      "378/391 [============================>.] - ETA: 0s - loss: 1.3033 - accuracy: 0.5681\n",
      "Epoch 11: saving model to model/keypoint_classifier\\keypoint_classifier.hdf5\n",
      "391/391 [==============================] - 1s 3ms/step - loss: 1.3018 - accuracy: 0.5690 - val_loss: 0.7560 - val_accuracy: 0.8304\n",
      "Epoch 12/1000\n",
      "374/391 [===========================>..] - ETA: 0s - loss: 1.2923 - accuracy: 0.5699\n",
      "Epoch 12: saving model to model/keypoint_classifier\\keypoint_classifier.hdf5\n",
      "391/391 [==============================] - 1s 3ms/step - loss: 1.2916 - accuracy: 0.5704 - val_loss: 0.7497 - val_accuracy: 0.8526\n",
      "Epoch 13/1000\n",
      "374/391 [===========================>..] - ETA: 0s - loss: 1.2812 - accuracy: 0.5774\n",
      "Epoch 13: saving model to model/keypoint_classifier\\keypoint_classifier.hdf5\n",
      "391/391 [==============================] - 1s 3ms/step - loss: 1.2809 - accuracy: 0.5770 - val_loss: 0.7338 - val_accuracy: 0.8484\n",
      "Epoch 14/1000\n",
      "373/391 [===========================>..] - ETA: 0s - loss: 1.2579 - accuracy: 0.5812\n",
      "Epoch 14: saving model to model/keypoint_classifier\\keypoint_classifier.hdf5\n",
      "391/391 [==============================] - 1s 3ms/step - loss: 1.2563 - accuracy: 0.5816 - val_loss: 0.7190 - val_accuracy: 0.8385\n",
      "Epoch 15/1000\n",
      "378/391 [============================>.] - ETA: 0s - loss: 1.2550 - accuracy: 0.5809\n",
      "Epoch 15: saving model to model/keypoint_classifier\\keypoint_classifier.hdf5\n",
      "391/391 [==============================] - 2s 4ms/step - loss: 1.2540 - accuracy: 0.5809 - val_loss: 0.7132 - val_accuracy: 0.8486\n",
      "Epoch 16/1000\n",
      "389/391 [============================>.] - ETA: 0s - loss: 1.2459 - accuracy: 0.5882\n",
      "Epoch 16: saving model to model/keypoint_classifier\\keypoint_classifier.hdf5\n",
      "391/391 [==============================] - 1s 3ms/step - loss: 1.2466 - accuracy: 0.5882 - val_loss: 0.7016 - val_accuracy: 0.8448\n",
      "Epoch 17/1000\n",
      "379/391 [============================>.] - ETA: 0s - loss: 1.2406 - accuracy: 0.5886\n",
      "Epoch 17: saving model to model/keypoint_classifier\\keypoint_classifier.hdf5\n",
      "391/391 [==============================] - 1s 3ms/step - loss: 1.2390 - accuracy: 0.5890 - val_loss: 0.6886 - val_accuracy: 0.8514\n",
      "Epoch 18/1000\n",
      "381/391 [============================>.] - ETA: 0s - loss: 1.2244 - accuracy: 0.5906\n",
      "Epoch 18: saving model to model/keypoint_classifier\\keypoint_classifier.hdf5\n",
      "391/391 [==============================] - 1s 3ms/step - loss: 1.2231 - accuracy: 0.5916 - val_loss: 0.6867 - val_accuracy: 0.8514\n",
      "Epoch 19/1000\n",
      "384/391 [============================>.] - ETA: 0s - loss: 1.2099 - accuracy: 0.5958\n",
      "Epoch 19: saving model to model/keypoint_classifier\\keypoint_classifier.hdf5\n",
      "391/391 [==============================] - 1s 3ms/step - loss: 1.2119 - accuracy: 0.5951 - val_loss: 0.6843 - val_accuracy: 0.8514\n",
      "Epoch 20/1000\n",
      "388/391 [============================>.] - ETA: 0s - loss: 1.2070 - accuracy: 0.6011\n",
      "Epoch 20: saving model to model/keypoint_classifier\\keypoint_classifier.hdf5\n",
      "391/391 [==============================] - 3s 6ms/step - loss: 1.2062 - accuracy: 0.6012 - val_loss: 0.6720 - val_accuracy: 0.8657\n",
      "Epoch 21/1000\n",
      "389/391 [============================>.] - ETA: 0s - loss: 1.2015 - accuracy: 0.5995\n",
      "Epoch 21: saving model to model/keypoint_classifier\\keypoint_classifier.hdf5\n",
      "391/391 [==============================] - 2s 5ms/step - loss: 1.2020 - accuracy: 0.5994 - val_loss: 0.6541 - val_accuracy: 0.8491\n",
      "Epoch 22/1000\n",
      "385/391 [============================>.] - ETA: 0s - loss: 1.2029 - accuracy: 0.6023\n",
      "Epoch 22: saving model to model/keypoint_classifier\\keypoint_classifier.hdf5\n",
      "391/391 [==============================] - 2s 5ms/step - loss: 1.2019 - accuracy: 0.6025 - val_loss: 0.6519 - val_accuracy: 0.8779\n",
      "Epoch 23/1000\n",
      "380/391 [============================>.] - ETA: 0s - loss: 1.1931 - accuracy: 0.6038\n",
      "Epoch 23: saving model to model/keypoint_classifier\\keypoint_classifier.hdf5\n",
      "391/391 [==============================] - 2s 6ms/step - loss: 1.1922 - accuracy: 0.6041 - val_loss: 0.6420 - val_accuracy: 0.8391\n",
      "Epoch 24/1000\n",
      "388/391 [============================>.] - ETA: 0s - loss: 1.1823 - accuracy: 0.6052\n",
      "Epoch 24: saving model to model/keypoint_classifier\\keypoint_classifier.hdf5\n",
      "391/391 [==============================] - 2s 5ms/step - loss: 1.1824 - accuracy: 0.6053 - val_loss: 0.6517 - val_accuracy: 0.8175\n",
      "Epoch 25/1000\n",
      "371/391 [===========================>..] - ETA: 0s - loss: 1.1722 - accuracy: 0.6107\n",
      "Epoch 25: saving model to model/keypoint_classifier\\keypoint_classifier.hdf5\n",
      "391/391 [==============================] - 2s 4ms/step - loss: 1.1735 - accuracy: 0.6095 - val_loss: 0.6378 - val_accuracy: 0.8456\n",
      "Epoch 26/1000\n",
      "391/391 [==============================] - ETA: 0s - loss: 1.1680 - accuracy: 0.6114\n",
      "Epoch 26: saving model to model/keypoint_classifier\\keypoint_classifier.hdf5\n",
      "391/391 [==============================] - 2s 4ms/step - loss: 1.1680 - accuracy: 0.6114 - val_loss: 0.6355 - val_accuracy: 0.8252\n",
      "Epoch 27/1000\n",
      "378/391 [============================>.] - ETA: 0s - loss: 1.1687 - accuracy: 0.6093\n",
      "Epoch 27: saving model to model/keypoint_classifier\\keypoint_classifier.hdf5\n",
      "391/391 [==============================] - 2s 5ms/step - loss: 1.1672 - accuracy: 0.6094 - val_loss: 0.6321 - val_accuracy: 0.8376\n"
     ]
    },
    {
     "name": "stdout",
     "output_type": "stream",
     "text": [
      "Epoch 28/1000\n",
      "385/391 [============================>.] - ETA: 0s - loss: 1.1559 - accuracy: 0.6147\n",
      "Epoch 28: saving model to model/keypoint_classifier\\keypoint_classifier.hdf5\n",
      "391/391 [==============================] - 2s 5ms/step - loss: 1.1559 - accuracy: 0.6148 - val_loss: 0.6250 - val_accuracy: 0.8685\n",
      "Epoch 29/1000\n",
      "377/391 [===========================>..] - ETA: 0s - loss: 1.1535 - accuracy: 0.6152\n",
      "Epoch 29: saving model to model/keypoint_classifier\\keypoint_classifier.hdf5\n",
      "391/391 [==============================] - 2s 5ms/step - loss: 1.1532 - accuracy: 0.6151 - val_loss: 0.6144 - val_accuracy: 0.8490\n",
      "Epoch 30/1000\n",
      "391/391 [==============================] - ETA: 0s - loss: 1.1521 - accuracy: 0.6161\n",
      "Epoch 30: saving model to model/keypoint_classifier\\keypoint_classifier.hdf5\n",
      "391/391 [==============================] - 2s 5ms/step - loss: 1.1521 - accuracy: 0.6161 - val_loss: 0.6277 - val_accuracy: 0.8383\n",
      "Epoch 31/1000\n",
      "372/391 [===========================>..] - ETA: 0s - loss: 1.1480 - accuracy: 0.6185\n",
      "Epoch 31: saving model to model/keypoint_classifier\\keypoint_classifier.hdf5\n",
      "391/391 [==============================] - 1s 3ms/step - loss: 1.1467 - accuracy: 0.6185 - val_loss: 0.6208 - val_accuracy: 0.8457\n",
      "Epoch 32/1000\n",
      "371/391 [===========================>..] - ETA: 0s - loss: 1.1514 - accuracy: 0.6152\n",
      "Epoch 32: saving model to model/keypoint_classifier\\keypoint_classifier.hdf5\n",
      "391/391 [==============================] - 1s 3ms/step - loss: 1.1517 - accuracy: 0.6149 - val_loss: 0.6244 - val_accuracy: 0.8774\n",
      "Epoch 33/1000\n",
      "391/391 [==============================] - ETA: 0s - loss: 1.1384 - accuracy: 0.6202\n",
      "Epoch 33: saving model to model/keypoint_classifier\\keypoint_classifier.hdf5\n",
      "391/391 [==============================] - 1s 3ms/step - loss: 1.1384 - accuracy: 0.6202 - val_loss: 0.6083 - val_accuracy: 0.8406\n",
      "Epoch 34/1000\n",
      "382/391 [============================>.] - ETA: 0s - loss: 1.1408 - accuracy: 0.6226\n",
      "Epoch 34: saving model to model/keypoint_classifier\\keypoint_classifier.hdf5\n",
      "391/391 [==============================] - 2s 4ms/step - loss: 1.1409 - accuracy: 0.6228 - val_loss: 0.6093 - val_accuracy: 0.8397\n",
      "Epoch 35/1000\n",
      "373/391 [===========================>..] - ETA: 0s - loss: 1.1372 - accuracy: 0.6191\n",
      "Epoch 35: saving model to model/keypoint_classifier\\keypoint_classifier.hdf5\n",
      "391/391 [==============================] - 1s 3ms/step - loss: 1.1386 - accuracy: 0.6192 - val_loss: 0.6133 - val_accuracy: 0.8601\n",
      "Epoch 36/1000\n",
      "386/391 [============================>.] - ETA: 0s - loss: 1.1398 - accuracy: 0.6237\n",
      "Epoch 36: saving model to model/keypoint_classifier\\keypoint_classifier.hdf5\n",
      "391/391 [==============================] - 1s 3ms/step - loss: 1.1396 - accuracy: 0.6236 - val_loss: 0.6251 - val_accuracy: 0.8630\n",
      "Epoch 37/1000\n",
      "382/391 [============================>.] - ETA: 0s - loss: 1.1345 - accuracy: 0.6222\n",
      "Epoch 37: saving model to model/keypoint_classifier\\keypoint_classifier.hdf5\n",
      "391/391 [==============================] - 1s 4ms/step - loss: 1.1341 - accuracy: 0.6226 - val_loss: 0.6100 - val_accuracy: 0.8386\n",
      "Epoch 38/1000\n",
      "382/391 [============================>.] - ETA: 0s - loss: 1.1246 - accuracy: 0.6230\n",
      "Epoch 38: saving model to model/keypoint_classifier\\keypoint_classifier.hdf5\n",
      "391/391 [==============================] - 1s 4ms/step - loss: 1.1240 - accuracy: 0.6229 - val_loss: 0.6116 - val_accuracy: 0.8631\n",
      "Epoch 39/1000\n",
      "375/391 [===========================>..] - ETA: 0s - loss: 1.1239 - accuracy: 0.6265\n",
      "Epoch 39: saving model to model/keypoint_classifier\\keypoint_classifier.hdf5\n",
      "391/391 [==============================] - 1s 4ms/step - loss: 1.1235 - accuracy: 0.6268 - val_loss: 0.6076 - val_accuracy: 0.8443\n",
      "Epoch 40/1000\n",
      "391/391 [==============================] - ETA: 0s - loss: 1.1183 - accuracy: 0.6273\n",
      "Epoch 40: saving model to model/keypoint_classifier\\keypoint_classifier.hdf5\n",
      "391/391 [==============================] - 1s 4ms/step - loss: 1.1183 - accuracy: 0.6273 - val_loss: 0.6121 - val_accuracy: 0.8472\n",
      "Epoch 41/1000\n",
      "375/391 [===========================>..] - ETA: 0s - loss: 1.1161 - accuracy: 0.6317\n",
      "Epoch 41: saving model to model/keypoint_classifier\\keypoint_classifier.hdf5\n",
      "391/391 [==============================] - 2s 4ms/step - loss: 1.1158 - accuracy: 0.6315 - val_loss: 0.6141 - val_accuracy: 0.8568\n",
      "Epoch 42/1000\n",
      "384/391 [============================>.] - ETA: 0s - loss: 1.1101 - accuracy: 0.6306\n",
      "Epoch 42: saving model to model/keypoint_classifier\\keypoint_classifier.hdf5\n",
      "391/391 [==============================] - 2s 4ms/step - loss: 1.1092 - accuracy: 0.6309 - val_loss: 0.6093 - val_accuracy: 0.8456\n",
      "Epoch 43/1000\n",
      "384/391 [============================>.] - ETA: 0s - loss: 1.1163 - accuracy: 0.6277\n",
      "Epoch 43: saving model to model/keypoint_classifier\\keypoint_classifier.hdf5\n",
      "391/391 [==============================] - 2s 5ms/step - loss: 1.1163 - accuracy: 0.6275 - val_loss: 0.5977 - val_accuracy: 0.8726\n",
      "Epoch 44/1000\n",
      "369/391 [===========================>..] - ETA: 0s - loss: 1.1075 - accuracy: 0.6311\n",
      "Epoch 44: saving model to model/keypoint_classifier\\keypoint_classifier.hdf5\n",
      "391/391 [==============================] - 1s 3ms/step - loss: 1.1110 - accuracy: 0.6303 - val_loss: 0.6131 - val_accuracy: 0.8681\n",
      "Epoch 45/1000\n",
      "379/391 [============================>.] - ETA: 0s - loss: 1.1048 - accuracy: 0.6353\n",
      "Epoch 45: saving model to model/keypoint_classifier\\keypoint_classifier.hdf5\n",
      "391/391 [==============================] - 1s 4ms/step - loss: 1.1053 - accuracy: 0.6353 - val_loss: 0.6071 - val_accuracy: 0.8727\n",
      "Epoch 46/1000\n",
      "380/391 [============================>.] - ETA: 0s - loss: 1.0998 - accuracy: 0.6359\n",
      "Epoch 46: saving model to model/keypoint_classifier\\keypoint_classifier.hdf5\n",
      "391/391 [==============================] - 2s 4ms/step - loss: 1.0987 - accuracy: 0.6364 - val_loss: 0.6166 - val_accuracy: 0.8527\n",
      "Epoch 47/1000\n",
      "379/391 [============================>.] - ETA: 0s - loss: 1.0898 - accuracy: 0.6401\n",
      "Epoch 47: saving model to model/keypoint_classifier\\keypoint_classifier.hdf5\n",
      "391/391 [==============================] - 1s 3ms/step - loss: 1.0909 - accuracy: 0.6399 - val_loss: 0.6120 - val_accuracy: 0.8586\n",
      "Epoch 48/1000\n",
      "388/391 [============================>.] - ETA: 0s - loss: 1.0957 - accuracy: 0.6405\n",
      "Epoch 48: saving model to model/keypoint_classifier\\keypoint_classifier.hdf5\n",
      "391/391 [==============================] - 1s 3ms/step - loss: 1.0948 - accuracy: 0.6407 - val_loss: 0.6051 - val_accuracy: 0.8558\n",
      "Epoch 49/1000\n",
      "384/391 [============================>.] - ETA: 0s - loss: 1.0890 - accuracy: 0.6402\n",
      "Epoch 49: saving model to model/keypoint_classifier\\keypoint_classifier.hdf5\n",
      "391/391 [==============================] - 2s 4ms/step - loss: 1.0896 - accuracy: 0.6403 - val_loss: 0.6109 - val_accuracy: 0.8597\n",
      "Epoch 50/1000\n",
      "382/391 [============================>.] - ETA: 0s - loss: 1.0911 - accuracy: 0.6415\n",
      "Epoch 50: saving model to model/keypoint_classifier\\keypoint_classifier.hdf5\n",
      "391/391 [==============================] - 2s 4ms/step - loss: 1.0903 - accuracy: 0.6418 - val_loss: 0.6035 - val_accuracy: 0.8519\n",
      "Epoch 51/1000\n",
      "386/391 [============================>.] - ETA: 0s - loss: 1.0782 - accuracy: 0.6487\n",
      "Epoch 51: saving model to model/keypoint_classifier\\keypoint_classifier.hdf5\n",
      "391/391 [==============================] - 2s 5ms/step - loss: 1.0793 - accuracy: 0.6483 - val_loss: 0.6162 - val_accuracy: 0.8498\n",
      "Epoch 52/1000\n",
      "377/391 [===========================>..] - ETA: 0s - loss: 1.0793 - accuracy: 0.6447\n",
      "Epoch 52: saving model to model/keypoint_classifier\\keypoint_classifier.hdf5\n",
      "391/391 [==============================] - 1s 3ms/step - loss: 1.0798 - accuracy: 0.6449 - val_loss: 0.6055 - val_accuracy: 0.8683\n",
      "Epoch 53/1000\n",
      "382/391 [============================>.] - ETA: 0s - loss: 1.0695 - accuracy: 0.6535\n",
      "Epoch 53: saving model to model/keypoint_classifier\\keypoint_classifier.hdf5\n",
      "391/391 [==============================] - 1s 3ms/step - loss: 1.0699 - accuracy: 0.6531 - val_loss: 0.6059 - val_accuracy: 0.8561\n",
      "Epoch 54/1000\n",
      "379/391 [============================>.] - ETA: 0s - loss: 1.0721 - accuracy: 0.6521\n",
      "Epoch 54: saving model to model/keypoint_classifier\\keypoint_classifier.hdf5\n",
      "391/391 [==============================] - 1s 3ms/step - loss: 1.0728 - accuracy: 0.6517 - val_loss: 0.6097 - val_accuracy: 0.8565\n"
     ]
    },
    {
     "name": "stdout",
     "output_type": "stream",
     "text": [
      "Epoch 55/1000\n",
      "380/391 [============================>.] - ETA: 0s - loss: 1.0671 - accuracy: 0.6527\n",
      "Epoch 55: saving model to model/keypoint_classifier\\keypoint_classifier.hdf5\n",
      "391/391 [==============================] - 1s 3ms/step - loss: 1.0662 - accuracy: 0.6527 - val_loss: 0.6210 - val_accuracy: 0.8529\n",
      "Epoch 56/1000\n",
      "371/391 [===========================>..] - ETA: 0s - loss: 1.0580 - accuracy: 0.6577\n",
      "Epoch 56: saving model to model/keypoint_classifier\\keypoint_classifier.hdf5\n",
      "391/391 [==============================] - 1s 3ms/step - loss: 1.0556 - accuracy: 0.6576 - val_loss: 0.6107 - val_accuracy: 0.8538\n",
      "Epoch 57/1000\n",
      "375/391 [===========================>..] - ETA: 0s - loss: 1.0669 - accuracy: 0.6568\n",
      "Epoch 57: saving model to model/keypoint_classifier\\keypoint_classifier.hdf5\n",
      "391/391 [==============================] - 1s 3ms/step - loss: 1.0656 - accuracy: 0.6568 - val_loss: 0.6096 - val_accuracy: 0.8564\n",
      "Epoch 58/1000\n",
      "371/391 [===========================>..] - ETA: 0s - loss: 1.0604 - accuracy: 0.6571\n",
      "Epoch 58: saving model to model/keypoint_classifier\\keypoint_classifier.hdf5\n",
      "391/391 [==============================] - 1s 3ms/step - loss: 1.0595 - accuracy: 0.6569 - val_loss: 0.6151 - val_accuracy: 0.8567\n",
      "Epoch 59/1000\n",
      "375/391 [===========================>..] - ETA: 0s - loss: 1.0602 - accuracy: 0.6594\n",
      "Epoch 59: saving model to model/keypoint_classifier\\keypoint_classifier.hdf5\n",
      "391/391 [==============================] - 1s 3ms/step - loss: 1.0591 - accuracy: 0.6596 - val_loss: 0.6232 - val_accuracy: 0.8424\n",
      "Epoch 60/1000\n",
      "374/391 [===========================>..] - ETA: 0s - loss: 1.0499 - accuracy: 0.6601\n",
      "Epoch 60: saving model to model/keypoint_classifier\\keypoint_classifier.hdf5\n",
      "391/391 [==============================] - 2s 4ms/step - loss: 1.0484 - accuracy: 0.6603 - val_loss: 0.6314 - val_accuracy: 0.8330\n",
      "Epoch 61/1000\n",
      "371/391 [===========================>..] - ETA: 0s - loss: 1.0481 - accuracy: 0.6638\n",
      "Epoch 61: saving model to model/keypoint_classifier\\keypoint_classifier.hdf5\n",
      "391/391 [==============================] - 1s 3ms/step - loss: 1.0466 - accuracy: 0.6645 - val_loss: 0.6358 - val_accuracy: 0.8295\n",
      "Epoch 62/1000\n",
      "379/391 [============================>.] - ETA: 0s - loss: 1.0301 - accuracy: 0.6651\n",
      "Epoch 62: saving model to model/keypoint_classifier\\keypoint_classifier.hdf5\n",
      "391/391 [==============================] - 1s 3ms/step - loss: 1.0285 - accuracy: 0.6660 - val_loss: 0.6401 - val_accuracy: 0.8199\n",
      "Epoch 63/1000\n",
      "386/391 [============================>.] - ETA: 0s - loss: 1.0383 - accuracy: 0.6661\n",
      "Epoch 63: saving model to model/keypoint_classifier\\keypoint_classifier.hdf5\n",
      "391/391 [==============================] - 1s 3ms/step - loss: 1.0382 - accuracy: 0.6662 - val_loss: 0.6137 - val_accuracy: 0.8453\n",
      "Epoch 63: early stopping\n"
     ]
    },
    {
     "data": {
      "text/plain": [
       "<keras.callbacks.History at 0x1e8b32e8df0>"
      ]
     },
     "execution_count": 11,
     "metadata": {},
     "output_type": "execute_result"
    }
   ],
   "source": [
    "model.fit(\n",
    "    X_train,\n",
    "    y_train,\n",
    "    epochs=1000,\n",
    "    batch_size=128,\n",
    "    validation_data=(X_test, y_test),\n",
    "    callbacks=[cp_callback, es_callback]\n",
    ")"
   ]
  },
  {
   "cell_type": "code",
   "execution_count": 12,
   "metadata": {
    "colab": {
     "base_uri": "https://localhost:8080/"
    },
    "id": "pxvb2Y299hE3",
    "outputId": "59eb3185-2e37-4b9e-bc9d-ab1b8ac29b7f"
   },
   "outputs": [
    {
     "name": "stdout",
     "output_type": "stream",
     "text": [
      "131/131 [==============================] - 0s 2ms/step - loss: 0.6137 - accuracy: 0.8453\n"
     ]
    }
   ],
   "source": [
    "# Model evaluation\n",
    "val_loss, val_acc = model.evaluate(X_test, y_test, batch_size=128)"
   ]
  },
  {
   "cell_type": "code",
   "execution_count": 13,
   "metadata": {
    "id": "RBkmDeUW9hE4"
   },
   "outputs": [],
   "source": [
    "# Loading the saved model\n",
    "model = tf.keras.models.load_model(model_save_path)"
   ]
  },
  {
   "cell_type": "code",
   "execution_count": 14,
   "metadata": {
    "colab": {
     "base_uri": "https://localhost:8080/"
    },
    "id": "tFz9Tb0I9hE4",
    "outputId": "1c3b3528-54ae-4ee2-ab04-77429211cbef"
   },
   "outputs": [
    {
     "name": "stdout",
     "output_type": "stream",
     "text": [
      "1/1 [==============================] - 0s 110ms/step\n",
      "[1.0744810e-04 2.7700054e-02 6.8639900e-04 2.3115284e-04 3.4950506e-02\n",
      " 6.6859000e-03 1.5817376e-04 4.5090716e-04 1.7012784e-04 1.2940336e-03\n",
      " 4.4389410e-04 2.0537584e-06 5.4602540e-04 9.1968439e-05 3.4439014e-04\n",
      " 1.0890923e-02 4.7556306e-03 7.2810566e-05 1.8538641e-03 3.1529620e-04\n",
      " 1.2598390e-03 4.2831302e-03 9.0216887e-01 3.7979701e-04 9.4165654e-05\n",
      " 6.2594590e-05]\n",
      "22\n"
     ]
    }
   ],
   "source": [
    "# Inference test\n",
    "predict_result = model.predict(np.array([X_test[0]]))\n",
    "print(np.squeeze(predict_result))\n",
    "print(np.argmax(np.squeeze(predict_result)))"
   ]
  },
  {
   "cell_type": "markdown",
   "metadata": {
    "id": "S3U4yNWx9hE4"
   },
   "source": [
    "# Confusion matrix"
   ]
  },
  {
   "cell_type": "code",
   "execution_count": 15,
   "metadata": {
    "colab": {
     "base_uri": "https://localhost:8080/",
     "height": 582
    },
    "id": "AP1V6SCk9hE5",
    "outputId": "08e41a80-7a4a-4619-8125-ecc371368d19"
   },
   "outputs": [
    {
     "name": "stdout",
     "output_type": "stream",
     "text": [
      "521/521 [==============================] - 1s 1ms/step\n"
     ]
    },
    {
     "data": {
      "image/png": "[encoded data removed]",
      "text/plain": [
       "<Figure size 700x600 with 2 Axes>"
      ]
     },
     "metadata": {},
     "output_type": "display_data"
    },
    {
     "name": "stdout",
     "output_type": "stream",
     "text": [
      "Classification Report\n",
      "              precision    recall  f1-score   support\n",
      "\n",
      "           0       0.75      0.93      0.83       725\n",
      "           1       0.95      0.98      0.97       721\n",
      "           2       0.98      0.93      0.95       749\n",
      "           3       0.82      0.97      0.89       756\n",
      "           4       0.97      0.76      0.85       942\n",
      "           5       0.98      0.97      0.97       768\n",
      "           6       0.00      0.00      0.00        17\n",
      "           7       0.00      0.00      0.00         8\n",
      "           8       0.95      0.91      0.93       698\n",
      "           9       0.94      0.97      0.96       768\n",
      "          10       0.98      0.82      0.90       762\n",
      "          11       0.89      0.97      0.93       761\n",
      "          12       0.65      0.52      0.58       551\n",
      "          13       0.69      0.68      0.69       517\n",
      "          14       0.00      0.00      0.00        13\n",
      "          15       0.78      0.95      0.86       686\n",
      "          16       0.92      0.75      0.83       583\n",
      "          17       0.56      0.90      0.69       710\n",
      "          18       0.88      0.64      0.74       733\n",
      "          19       0.89      0.65      0.75       713\n",
      "          20       0.58      0.27      0.37       702\n",
      "          21       0.81      0.90      0.85       719\n",
      "          22       0.99      0.97      0.98       774\n",
      "          23       0.64      0.92      0.75       756\n",
      "          24       0.99      0.96      0.97       709\n",
      "          25       0.93      0.97      0.95       819\n",
      "\n",
      "    accuracy                           0.85     16660\n",
      "   macro avg       0.75      0.74      0.74     16660\n",
      "weighted avg       0.85      0.85      0.84     16660\n",
      "\n"
     ]
    },
    {
     "name": "stderr",
     "output_type": "stream",
     "text": [
      "C:\\Users\\mohamed alameen\\AppData\\Local\\Programs\\Python\\Python310\\lib\\site-packages\\sklearn\\metrics\\_classification.py:1344: UndefinedMetricWarning: Precision and F-score are ill-defined and being set to 0.0 in labels with no predicted samples. Use `zero_division` parameter to control this behavior.\n",
      "  _warn_prf(average, modifier, msg_start, len(result))\n",
      "C:\\Users\\mohamed alameen\\AppData\\Local\\Programs\\Python\\Python310\\lib\\site-packages\\sklearn\\metrics\\_classification.py:1344: UndefinedMetricWarning: Precision and F-score are ill-defined and being set to 0.0 in labels with no predicted samples. Use `zero_division` parameter to control this behavior.\n",
      "  _warn_prf(average, modifier, msg_start, len(result))\n",
      "C:\\Users\\mohamed alameen\\AppData\\Local\\Programs\\Python\\Python310\\lib\\site-packages\\sklearn\\metrics\\_classification.py:1344: UndefinedMetricWarning: Precision and F-score are ill-defined and being set to 0.0 in labels with no predicted samples. Use `zero_division` parameter to control this behavior.\n",
      "  _warn_prf(average, modifier, msg_start, len(result))\n"
     ]
    }
   ],
   "source": [
    "import pandas as pd\n",
    "import seaborn as sns\n",
    "import matplotlib.pyplot as plt\n",
    "from sklearn.metrics import confusion_matrix, classification_report\n",
    "\n",
    "def print_confusion_matrix(y_true, y_pred, report=True):\n",
    "    labels = sorted(list(set(y_true)))\n",
    "    cmx_data = confusion_matrix(y_true, y_pred, labels=labels)\n",
    "    \n",
    "    df_cmx = pd.DataFrame(cmx_data, index=labels, columns=labels)\n",
    " \n",
    "    fig, ax = plt.subplots(figsize=(7, 6))\n",
    "    sns.heatmap(df_cmx, annot=True, fmt='g' ,square=False)\n",
    "    ax.set_ylim(len(set(y_true)), 0)\n",
    "    plt.show()\n",
    "    \n",
    "    if report:\n",
    "        print('Classification Report')\n",
    "        print(classification_report(y_test, y_pred))\n",
    "\n",
    "Y_pred = model.predict(X_test)\n",
    "y_pred = np.argmax(Y_pred, axis=1)\n",
    "\n",
    "print_confusion_matrix(y_test, y_pred)"
   ]
  },
  {
   "cell_type": "markdown",
   "metadata": {
    "id": "FNP6aqzc9hE5"
   },
   "source": [
    "# Convert to model for Tensorflow-Lite"
   ]
  },
  {
   "cell_type": "code",
   "execution_count": 16,
   "metadata": {
    "id": "ODjnYyld9hE6"
   },
   "outputs": [],
   "source": [
    "# Save as a model dedicated to inference\n",
    "model.save(model_save_path, include_optimizer=False)"
   ]
  },
  {
   "cell_type": "code",
   "execution_count": 17,
   "metadata": {
    "colab": {
     "base_uri": "https://localhost:8080/"
    },
    "id": "zRfuK8Y59hE6",
    "outputId": "a4ca585c-b5d5-4244-8291-8674063209bb"
   },
   "outputs": [
    {
     "name": "stderr",
     "output_type": "stream",
     "text": [
      "WARNING:absl:Found untraced functions such as _update_step_xla while saving (showing 1 of 1). These functions will not be directly callable after loading.\n"
     ]
    },
    {
     "name": "stdout",
     "output_type": "stream",
     "text": [
      "INFO:tensorflow:Assets written to: C:\\Users\\MOHAME~1\\AppData\\Local\\Temp\\tmpp8howv6_\\assets\n"
     ]
    },
    {
     "name": "stderr",
     "output_type": "stream",
     "text": [
      "INFO:tensorflow:Assets written to: C:\\Users\\MOHAME~1\\AppData\\Local\\Temp\\tmpp8howv6_\\assets\n"
     ]
    },
    {
     "data": {
      "text/plain": [
       "7512"
      ]
     },
     "execution_count": 17,
     "metadata": {},
     "output_type": "execute_result"
    }
   ],
   "source": [
    "# Transform model (quantization)\n",
    "\n",
    "converter = tf.lite.TFLiteConverter.from_keras_model(model)\n",
    "converter.optimizations = [tf.lite.Optimize.DEFAULT]\n",
    "tflite_quantized_model = converter.convert()\n",
    "\n",
    "open(tflite_save_path, 'wb').write(tflite_quantized_model)"
   ]
  },
  {
   "cell_type": "markdown",
   "metadata": {
    "id": "CHBPBXdx9hE6"
   },
   "source": [
    "# Inference test"
   ]
  },
  {
   "cell_type": "code",
   "execution_count": 18,
   "metadata": {
    "id": "mGAzLocO9hE7"
   },
   "outputs": [],
   "source": [
    "interpreter = tf.lite.Interpreter(model_path=tflite_save_path)\n",
    "interpreter.allocate_tensors()"
   ]
  },
  {
   "cell_type": "code",
   "execution_count": 19,
   "metadata": {
    "id": "oQuDK8YS9hE7"
   },
   "outputs": [],
   "source": [
    "# Get I / O tensor\n",
    "input_details = interpreter.get_input_details()\n",
    "output_details = interpreter.get_output_details()"
   ]
  },
  {
   "cell_type": "code",
   "execution_count": 20,
   "metadata": {
    "id": "2_ixAf_l9hE7"
   },
   "outputs": [],
   "source": [
    "interpreter.set_tensor(input_details[0]['index'], np.array([X_test[0]]))"
   ]
  },
  {
   "cell_type": "code",
   "execution_count": 21,
   "metadata": {
    "colab": {
     "base_uri": "https://localhost:8080/"
    },
    "id": "s4FoAnuc9hE7",
    "outputId": "91f18257-8d8b-4ef3-c558-e9b5f94fabbf",
    "scrolled": true
   },
   "outputs": [
    {
     "name": "stdout",
     "output_type": "stream",
     "text": [
      "CPU times: total: 0 ns\n",
      "Wall time: 0 ns\n"
     ]
    }
   ],
   "source": [
    "%%time\n",
    "# Inference implementation\n",
    "interpreter.invoke()\n",
    "tflite_results = interpreter.get_tensor(output_details[0]['index'])"
   ]
  },
  {
   "cell_type": "code",
   "execution_count": 22,
   "metadata": {
    "colab": {
     "base_uri": "https://localhost:8080/"
    },
    "id": "vONjp19J9hE8",
    "outputId": "77205e24-fd00-42c4-f7b6-e06e527c2cba"
   },
   "outputs": [
    {
     "name": "stdout",
     "output_type": "stream",
     "text": [
      "[1.07448104e-04 2.77000424e-02 6.86398416e-04 2.31152866e-04\n",
      " 3.49504910e-02 6.68589771e-03 1.58173774e-04 4.50907246e-04\n",
      " 1.70127692e-04 1.29403442e-03 4.43894998e-04 2.05375841e-06\n",
      " 5.46025403e-04 9.19684389e-05 3.44390166e-04 1.08909300e-02\n",
      " 4.75563155e-03 7.28107188e-05 1.85386348e-03 3.15296114e-04\n",
      " 1.25984033e-03 4.28313436e-03 9.02168989e-01 3.79796809e-04\n",
      " 9.41656617e-05 6.25945977e-05]\n",
      "22\n"
     ]
    }
   ],
   "source": [
    "print(np.squeeze(tflite_results))\n",
    "print(np.argmax(np.squeeze(tflite_results)))"
   ]
  }
 ],
 "metadata": {
  "accelerator": "GPU",
  "colab": {
   "collapsed_sections": [],
   "name": "keypoint_classification_EN.ipynb",
   "provenance": [],
   "toc_visible": true
  },
  "kernelspec": {
   "display_name": "Python 3 (ipykernel)",
   "language": "python",
   "name": "python3"
  },
  "language_info": {
   "codemirror_mode": {
    "name": "ipython",
    "version": 3
   },
   "file_extension": ".py",
   "mimetype": "text/x-python",
   "name": "python",
   "nbconvert_exporter": "python",
   "pygments_lexer": "ipython3",
   "version": "3.10.8"
  }
 },
 "nbformat": 4,
 "nbformat_minor": 1
}
